{
 "cells": [
  {
   "cell_type": "markdown",
   "id": "d147ca27",
   "metadata": {},
   "source": [
    "<h1>Basic Potentials used in Molecular Dynamics Symulations</h1>\n",
    "<p>\n",
    "    This notebook contains implementations of different MD potentials\n",
    "</p>\n",
    "<p>\n",
    "    @Version 1.0 <br>\n",
    "    @Author Marc\n",
    "</p>"
   ]
  },
  {
   "cell_type": "code",
   "execution_count": 4,
   "id": "51c0706f",
   "metadata": {},
   "outputs": [],
   "source": [
    "# Imports\n",
    "import math\n",
    "import numpy as np\n",
    "import matplotlib.pyplot as plt\n",
    "import scipy.constants as nconst\n",
    "import rdkit.Chem as RDKitChem\n",
    "import rdkit.Chem.AllChem as RDKitAllChem"
   ]
  },
  {
   "cell_type": "code",
   "execution_count": 5,
   "id": "96f2dab3",
   "metadata": {},
   "outputs": [],
   "source": [
    "# Part 0: global functions and variables\n",
    "\n",
    "# 0.1 Global variables\n",
    "\n",
    "# 0.2 Reduced mass\n",
    "def reduced_mass(mass1, mass2):\n",
    "    return ((mass1 * mass2) / (mass1 + mass2))\n",
    "\n",
    "# 0.3 U_m\n",
    "def u_m(alpha_a, alpha_b, N_a, N_b):\n",
    "        return ((alpha_a * alpha_b) / ((math.sqrt(alpha_a / N_a)) + (math.sqrt(alpha_b / N_b))))\n",
    "    \n",
    "# 0.4 Equillibrium distance r_m\n",
    "def r_m(r_0):\n",
    "    return r_0 * 2**(-6)"
   ]
  },
  {
   "cell_type": "code",
   "execution_count": 6,
   "id": "335e00f2",
   "metadata": {},
   "outputs": [],
   "source": [
    "# Part 1: two particle potentials\n",
    "\n",
    "# 1.1 Lennard-Jones potential\n",
    "def v_lennard_jones(r, rm, e_min, alpha_a, alpha_b, N_a, N_b):\n",
    "    # u = u_m(alpha_a, alpha_b, N_a, N_b) * ((r_m / r)**12 - (2*(r_m / r)**6))\n",
    "    a = 4 * e_min * rm**12\n",
    "    b = 4 * e_min * rm**6\n",
    "    u = ((a / r**12) - (b / r**6))\n",
    "    return u\n",
    "\n",
    "# 1.2 Coulomb potential\n",
    "def v_coulomb(r, z_a, z_b, dieclectricity_constant):\n",
    "    return ((z_a * z_b * nconst.e**2) / (4 * nconst.pi * nconst.epsilon_0 * dieclectricity_constant * r))\n",
    "\n",
    "# 1.3 Harmonic oscillator\n",
    "def v_ho(r, r_m, mass_a, mass_b, frequency):\n",
    "    h = frequency**2 * reduced_mass(mass_a, mass_b)\n",
    "    return 0.5 * h * (r - r_m)**2\n",
    "\n",
    "# 1.4 Morse potential\n",
    "def v_morse(r, r_m, e_dissociation, alpha):\n",
    "    return (e_dissociation * (1 - math.exp(-1 * alpha * (r - r_m)))**2)"
   ]
  },
  {
   "cell_type": "markdown",
   "id": "907f255a",
   "metadata": {},
   "source": [
    "<h2>Visualisations</h2>\n",
    "<p>\n",
    "    Example plots for the different potential functions implemented above.\n",
    "    <br>\n",
    "    Some general information:\n",
    "    <ul>\n",
    "        <li>Covalent bond potentials are plotted for the dihydrogen (H<sub>2</sub>) system</li>\n",
    "        <li>Non-covalent interactions were plotted for the HCl (H<sup>+</sup> + Cl<sup>-</sup>) system</li>\n",
    "    </ul>\n",
    "</p>"
   ]
  },
  {
   "cell_type": "code",
   "execution_count": 7,
   "id": "e509d1f6",
   "metadata": {},
   "outputs": [],
   "source": [
    "# General visualisation algorithms\n",
    "plot_x_count = 50\n",
    "\n",
    "def plot_potential(x_data, y_data, title):\n",
    "    fig, ax = plt.subplots(nrows=1, ncols=1)\n",
    "    ax.plot(x_data, y_data)\n",
    "    ax.set_title(title)\n",
    "    ax.set_xlabel(\"r\")\n",
    "    ax.set_ylabel(\"U(r)\")\n",
    "    \n",
    "    return fig, ax\n",
    "\n",
    "# Create periodic table\n",
    "table_of_elements = RDKitChem.GetPeriodicTable()\n",
    "\n",
    "# Dihydrogen parameters\n",
    "h2_mol = RDKitAllChem.MolFromSmiles('[H][H]')\n",
    "hcl_ions = RDKitAllChem.MolFromSmiles('[H+].[Cl-]')"
   ]
  },
  {
   "cell_type": "code",
   "execution_count": 8,
   "id": "4b93cbfc",
   "metadata": {},
   "outputs": [
    {
     "name": "stderr",
     "output_type": "stream",
     "text": [
      "C:\\Users\\Marc Lucas Appis\\AppData\\Local\\Temp\\ipykernel_14112\\2351097060.py:8: RuntimeWarning: divide by zero encountered in double_scalars\n",
      "  u = ((a / r**12) - (b / r**6))\n",
      "C:\\Users\\Marc Lucas Appis\\AppData\\Local\\Temp\\ipykernel_14112\\2351097060.py:8: RuntimeWarning: invalid value encountered in double_scalars\n",
      "  u = ((a / r**12) - (b / r**6))\n",
      "C:\\Users\\Marc Lucas Appis\\AppData\\Local\\Temp\\ipykernel_14112\\3419682826.py:19: UserWarning: Matplotlib is currently using module://matplotlib_inline.backend_inline, which is a non-GUI backend, so cannot show the figure.\n",
      "  LJ_plot_fig.show()\n"
     ]
    },
    {
     "data": {
      "image/png": "[encoded data removed]",
      "text/plain": [
       "<Figure size 432x288 with 1 Axes>"
      ]
     },
     "metadata": {
      "needs_background": "light"
     },
     "output_type": "display_data"
    }
   ],
   "source": [
    "# Lennard-Jones potential\n",
    "atom1 = h2_mol.GetAtoms()[0].GetAtomicNum()\n",
    "atom1_valence_electrons = h2_mol.GetAtoms()[0].GetTotalValence()\n",
    "r_0 = 2 * table_of_elements.GetRvdw(atom1)\n",
    "rm = r_m(r_0)\n",
    "r_max = 2 * rm # in\n",
    "r_min = (0) * rm\n",
    "alpha = 1e-2 # in Kcal A6/mol\n",
    "\n",
    "r_plot = np.zeros(plot_x_count)\n",
    "v_plot = np.zeros(plot_x_count)\n",
    "\n",
    "for i in range(plot_x_count):\n",
    "    r_plot[i] = r_min + ((r_max - r_min) * (i / plot_x_count))\n",
    "    v_plot[i] = v_lennard_jones(r_plot[i], rm, alpha, alpha, alpha, atom1_valence_electrons, atom1_valence_electrons)\n",
    "    \n",
    "LJ_plot_fig, LJ_plot_ax = plot_potential(r_plot, v_plot, \"Lennard-Jones potential\")\n",
    "LJ_plot_ax.set_ylim(-0.01, 0.01)\n",
    "LJ_plot_fig.show()"
   ]
  },
  {
   "cell_type": "code",
   "execution_count": 9,
   "id": "55e6fbbc",
   "metadata": {},
   "outputs": [
    {
     "name": "stderr",
     "output_type": "stream",
     "text": [
      "C:\\Users\\Marc Lucas Appis\\AppData\\Local\\Temp\\ipykernel_14112\\2351097060.py:13: RuntimeWarning: divide by zero encountered in double_scalars\n",
      "  return ((z_a * z_b * nconst.e**2) / (4 * nconst.pi * nconst.epsilon_0 * dieclectricity_constant * r))\n",
      "C:\\Users\\Marc Lucas Appis\\AppData\\Local\\Temp\\ipykernel_14112\\3810164542.py:20: UserWarning: Matplotlib is currently using module://matplotlib_inline.backend_inline, which is a non-GUI backend, so cannot show the figure.\n",
      "  Coulomb_plot_fig.show()\n"
     ]
    },
    {
     "data": {
      "image/png": "[encoded data removed]",
      "text/plain": [
       "<Figure size 432x288 with 1 Axes>"
      ]
     },
     "metadata": {
      "needs_background": "light"
     },
     "output_type": "display_data"
    }
   ],
   "source": [
    "# Coulomb potential\n",
    "atom1 = hcl_ions.GetAtoms()[0].GetAtomicNum()\n",
    "atom2 = hcl_ions.GetAtoms()[1].GetAtomicNum()\n",
    "r_0 = table_of_elements.GetRvdw(atom1) + table_of_elements.GetRvdw(atom1)\n",
    "rm = r_m(r_0)\n",
    "r_max = 4 * rm # in\n",
    "r_min = (-4) * rm\n",
    "dielectricity_const = 80 # for water\n",
    "z_a = nconst.elementary_charge\n",
    "z_b = (-1) * nconst.elementary_charge\n",
    "\n",
    "r_plot = np.zeros(plot_x_count)\n",
    "v_plot = np.zeros(plot_x_count)\n",
    "\n",
    "for i in range(plot_x_count):\n",
    "    r_plot[i] = r_min + ((r_max - r_min) * (i / plot_x_count))\n",
    "    v_plot[i] = v_coulomb(r_plot[i], z_a, z_b, dielectricity_const)\n",
    "    \n",
    "Coulomb_plot_fig, Coulomb_plot_ax = plot_potential(r_plot, v_plot, \"Coulomb potential\")\n",
    "Coulomb_plot_fig.show()"
   ]
  },
  {
   "cell_type": "code",
   "execution_count": 10,
   "id": "5ef63966",
   "metadata": {},
   "outputs": [
    {
     "name": "stderr",
     "output_type": "stream",
     "text": [
      "C:\\Users\\Marc Lucas Appis\\AppData\\Local\\Temp\\ipykernel_14112\\3978386240.py:18: UserWarning: Matplotlib is currently using module://matplotlib_inline.backend_inline, which is a non-GUI backend, so cannot show the figure.\n",
      "  HO_plot_fig.show()\n"
     ]
    },
    {
     "data": {
      "image/png": "[encoded data removed]",
      "text/plain": [
       "<Figure size 432x288 with 1 Axes>"
      ]
     },
     "metadata": {
      "needs_background": "light"
     },
     "output_type": "display_data"
    }
   ],
   "source": [
    "# Harmonic osscilator\n",
    "atom1 = h2_mol.GetAtoms()[0].GetAtomicNum()\n",
    "mass1 = table_of_elements.GetAtomicWeight(atom1) # in atomic units\n",
    "r_0 = 2 * table_of_elements.GetRvdw(atom1)\n",
    "rm = r_m(r_0)\n",
    "r_max = 4 * rm # in\n",
    "r_min = (-4) * rm\n",
    "frequency = 4401 # in cm^-1\n",
    "\n",
    "r_plot = np.zeros(plot_x_count)\n",
    "v_plot = np.zeros(plot_x_count)\n",
    "\n",
    "for i in range(plot_x_count):\n",
    "    r_plot[i] = r_min + ((r_max - r_min) * (i / plot_x_count))\n",
    "    v_plot[i] = v_ho(r_plot[i], rm, mass1, mass1, frequency)\n",
    "    \n",
    "HO_plot_fig, HO_plot_ax = plot_potential(r_plot, v_plot, \"Harmonic oscillator potential\")\n",
    "HO_plot_fig.show()"
   ]
  },
  {
   "cell_type": "code",
   "execution_count": 11,
   "id": "ebf79676",
   "metadata": {
    "scrolled": true
   },
   "outputs": [
    {
     "name": "stderr",
     "output_type": "stream",
     "text": [
      "C:\\Users\\Marc Lucas Appis\\AppData\\Local\\Temp\\ipykernel_14112\\2111294357.py:16: UserWarning: Matplotlib is currently using module://matplotlib_inline.backend_inline, which is a non-GUI backend, so cannot show the figure.\n",
      "  MO_plot_fig.show()\n"
     ]
    },
    {
     "data": {
      "image/png": "[encoded data removed]",
      "text/plain": [
       "<Figure size 432x288 with 1 Axes>"
      ]
     },
     "metadata": {
      "needs_background": "light"
     },
     "output_type": "display_data"
    }
   ],
   "source": [
    "# Morse potential\n",
    "atom1 = h2_mol.GetAtoms()[0].GetAtomicNum()\n",
    "r_0 = 2 * table_of_elements.GetRvdw(atom1)\n",
    "rm = r_m(r_0)\n",
    "r_max = 20 * rm # in\n",
    "r_min = (-2) * rm\n",
    "e_dissociation = 436 # kJ/mol\n",
    "ke = 40000\n",
    "alpha = math.sqrt(ke / (2 *e_dissociation ))\n",
    "\n",
    "for i in range(plot_x_count):\n",
    "    r_plot[i] = r_min + ((r_max - r_min) * (i / plot_x_count))\n",
    "    v_plot[i] = v_morse(r_plot[i], rm, e_dissociation, alpha)\n",
    "    \n",
    "MO_plot_fig, MO_plot_ax = plot_potential(r_plot, v_plot, \"Morse potential\")\n",
    "MO_plot_fig.show()"
   ]
  },
  {
   "cell_type": "code",
   "execution_count": 12,
   "id": "70030b09",
   "metadata": {},
   "outputs": [
    {
     "name": "stdout",
     "output_type": "stream",
     "text": [
      "1\n"
     ]
    }
   ],
   "source": [
    "# Test area\n",
    "x = math.sqrt(4)\n",
    "print(h2_mol.GetAtomWithIdx(0).GetTotalValence())"
   ]
  }
 ],
 "metadata": {
  "kernelspec": {
   "display_name": "Python 3 (ipykernel)",
   "language": "python",
   "name": "python3"
  },
  "language_info": {
   "codemirror_mode": {
    "name": "ipython",
    "version": 3
   },
   "file_extension": ".py",
   "mimetype": "text/x-python",
   "name": "python",
   "nbconvert_exporter": "python",
   "pygments_lexer": "ipython3",
   "version": "3.9.10"
  }
 },
 "nbformat": 4,
 "nbformat_minor": 5
}
