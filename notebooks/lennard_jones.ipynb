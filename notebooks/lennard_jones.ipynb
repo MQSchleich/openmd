{
 "cells": [
  {
   "cell_type": "code",
   "execution_count": 1,
   "metadata": {},
   "outputs": [
    {
     "name": "stdout",
     "output_type": "stream",
     "text": [
      "/home/julian/Documents/openmd/openmd\n"
     ]
    },
    {
     "ename": "IndexError",
     "evalue": "index 100 is out of bounds for axis 2 with size 100",
     "output_type": "error",
     "traceback": [
      "\u001b[0;31m---------------------------------------------------------------------------\u001b[0m",
      "\u001b[0;31mIndexError\u001b[0m                                Traceback (most recent call last)",
      "\u001b[1;32m/home/julian/Documents/openmd/openmd/notebooks/lennard_jones.ipynb Cell 1'\u001b[0m in \u001b[0;36m<module>\u001b[0;34m\u001b[0m\n\u001b[1;32m     <a href='vscode-notebook-cell:/home/julian/Documents/openmd/openmd/notebooks/lennard_jones.ipynb#ch0000000?line=35'>36</a>\u001b[0m velocities \u001b[39m=\u001b[39m np\u001b[39m.\u001b[39mzeros((\u001b[39m64\u001b[39m,\u001b[39m3\u001b[39m))\n\u001b[1;32m     <a href='vscode-notebook-cell:/home/julian/Documents/openmd/openmd/notebooks/lennard_jones.ipynb#ch0000000?line=36'>37</a>\u001b[0m sim \u001b[39m=\u001b[39m Simulator(\n\u001b[1;32m     <a href='vscode-notebook-cell:/home/julian/Documents/openmd/openmd/notebooks/lennard_jones.ipynb#ch0000000?line=37'>38</a>\u001b[0m     mass \u001b[39m=\u001b[39m \u001b[39m1\u001b[39m,\n\u001b[1;32m     <a href='vscode-notebook-cell:/home/julian/Documents/openmd/openmd/notebooks/lennard_jones.ipynb#ch0000000?line=38'>39</a>\u001b[0m     sim_time\u001b[39m=\u001b[39m \u001b[39m100\u001b[39m,\n\u001b[0;32m   (...)\u001b[0m\n\u001b[1;32m     <a href='vscode-notebook-cell:/home/julian/Documents/openmd/openmd/notebooks/lennard_jones.ipynb#ch0000000?line=45'>46</a>\u001b[0m     periodic\u001b[39m=\u001b[39m\u001b[39mTrue\u001b[39;00m,\n\u001b[1;32m     <a href='vscode-notebook-cell:/home/julian/Documents/openmd/openmd/notebooks/lennard_jones.ipynb#ch0000000?line=46'>47</a>\u001b[0m )\n\u001b[0;32m---> <a href='vscode-notebook-cell:/home/julian/Documents/openmd/openmd/notebooks/lennard_jones.ipynb#ch0000000?line=47'>48</a>\u001b[0m sim\u001b[39m.\u001b[39;49msimulate()\n",
      "File \u001b[0;32m~/Documents/openmd/openmd/openmd/SimulatorLJ.py:179\u001b[0m, in \u001b[0;36mSimulatorLJ.simulate\u001b[0;34m(self)\u001b[0m\n\u001b[1;32m    <a href='file:///~/Documents/openmd/openmd/openmd/SimulatorLJ.py?line=175'>176</a>\u001b[0m \u001b[39m# calculate chunks such that the for-loop from the integretor is written here and the integrator just called\u001b[39;00m\n\u001b[1;32m    <a href='file:///~/Documents/openmd/openmd/openmd/SimulatorLJ.py?line=176'>177</a>\u001b[0m \u001b[39mfor\u001b[39;00m i \u001b[39min\u001b[39;00m \u001b[39mrange\u001b[39m(\u001b[39mself\u001b[39m\u001b[39m.\u001b[39m_num_steps):\n\u001b[0;32m--> <a href='file:///~/Documents/openmd/openmd/openmd/SimulatorLJ.py?line=178'>179</a>\u001b[0m     positions, velocities \u001b[39m=\u001b[39m \u001b[39mself\u001b[39;49m\u001b[39m.\u001b[39;49m_integrator(\n\u001b[1;32m    <a href='file:///~/Documents/openmd/openmd/openmd/SimulatorLJ.py?line=179'>180</a>\u001b[0m     positions\u001b[39m=\u001b[39;49mpositions, velocities\u001b[39m=\u001b[39;49mvelocities, iteration\u001b[39m=\u001b[39;49mi\n\u001b[1;32m    <a href='file:///~/Documents/openmd/openmd/openmd/SimulatorLJ.py?line=180'>181</a>\u001b[0m     )\n\u001b[1;32m    <a href='file:///~/Documents/openmd/openmd/openmd/SimulatorLJ.py?line=182'>183</a>\u001b[0m \u001b[39m# needs to save to disk\u001b[39;00m\n\u001b[1;32m    <a href='file:///~/Documents/openmd/openmd/openmd/SimulatorLJ.py?line=184'>185</a>\u001b[0m \u001b[39mreturn\u001b[39;00m (positions, velocities)\n",
      "File \u001b[0;32m~/Documents/openmd/openmd/openmd/SimulatorLJ.py:200\u001b[0m, in \u001b[0;36mSimulatorLJ._integrator\u001b[0;34m(self, positions, velocities, iteration)\u001b[0m\n\u001b[1;32m    <a href='file:///~/Documents/openmd/openmd/openmd/SimulatorLJ.py?line=197'>198</a>\u001b[0m acc \u001b[39m=\u001b[39m \u001b[39mself\u001b[39m\u001b[39m.\u001b[39m_calc_accel(positions[:, :, \u001b[39m0\u001b[39m], \u001b[39mself\u001b[39m\u001b[39m.\u001b[39m_force_constants)\n\u001b[1;32m    <a href='file:///~/Documents/openmd/openmd/openmd/SimulatorLJ.py?line=198'>199</a>\u001b[0m velocity_pr \u001b[39m=\u001b[39m velocities[:, :, i] \u001b[39m+\u001b[39m \u001b[39m0.5\u001b[39m \u001b[39m*\u001b[39m acc \u001b[39m*\u001b[39m \u001b[39mself\u001b[39m\u001b[39m.\u001b[39m_time_step\n\u001b[0;32m--> <a href='file:///~/Documents/openmd/openmd/openmd/SimulatorLJ.py?line=199'>200</a>\u001b[0m positions[:, :, i \u001b[39m+\u001b[39m \u001b[39m1\u001b[39m] \u001b[39m=\u001b[39m positions[:, :, i] \u001b[39m+\u001b[39m \u001b[39mself\u001b[39m\u001b[39m.\u001b[39m_time_step \u001b[39m*\u001b[39m velocity_pr\n\u001b[1;32m    <a href='file:///~/Documents/openmd/openmd/openmd/SimulatorLJ.py?line=200'>201</a>\u001b[0m \u001b[39mif\u001b[39;00m \u001b[39mself\u001b[39m\u001b[39m.\u001b[39m_periodic \u001b[39m==\u001b[39m \u001b[39mTrue\u001b[39;00m:\n\u001b[1;32m    <a href='file:///~/Documents/openmd/openmd/openmd/SimulatorLJ.py?line=201'>202</a>\u001b[0m     positions[positions \u001b[39m>\u001b[39m \u001b[39mself\u001b[39m\u001b[39m.\u001b[39m_box_length \u001b[39m/\u001b[39m \u001b[39m2\u001b[39m] \u001b[39m-\u001b[39m\u001b[39m=\u001b[39m \u001b[39mself\u001b[39m\u001b[39m.\u001b[39m_box_length\n",
      "\u001b[0;31mIndexError\u001b[0m: index 100 is out of bounds for axis 2 with size 100"
     ]
    }
   ],
   "source": [
    "\n",
    "import numpy as np \n",
    "import sys\n",
    "import os\n",
    "\n",
    "module_path = os.path.abspath(os.path.join('..'))\n",
    "print(module_path)\n",
    "if module_path not in sys.path:\n",
    "    sys.path.append(module_path+\"/openmd\")\n",
    "\n",
    "from SimulatorLJ import SimulatorLJ as Simulator\n",
    "\n",
    "def initialize(num_part, sigma, length):\n",
    "    \"\"\"\n",
    "    :param num_part:\n",
    "    :type num_part:\n",
    "    :return:\n",
    "    :rtype:\n",
    "    \"\"\"\n",
    "    coordinates = np.zeros((num_part, 3))\n",
    "    pos_x = (0, length, 2**(1/6)*sigma)\n",
    "    i = 0\n",
    "    for x in pos_x:\n",
    "        for y in pos_x:\n",
    "            for z in pos_x:\n",
    "                coordinates[i, :] = np.array([x , y ,z])\n",
    "                i += 1\n",
    "                if i == num_part-1:\n",
    "                    break\n",
    "            if i == num_part - 1:\n",
    "                break\n",
    "        if i == num_part - 1:\n",
    "            break\n",
    "    return coordinates\n",
    "\n",
    "coordinates = initialize(64, 1, 6)\n",
    "velocities = np.zeros((64,3))\n",
    "sim = Simulator(\n",
    "    mass = 1,\n",
    "    sim_time= 100,\n",
    "    time_step = 1,\n",
    "    initial_values = [coordinates,velocities],\n",
    "    box_length = 6 ,\n",
    "    force=None,\n",
    "    force_constants=[1, 1],\n",
    "    integrator=None,\n",
    "    periodic=True,\n",
    ")\n",
    "sim.simulate()"
   ]
  },
  {
   "cell_type": "code",
   "execution_count": null,
   "metadata": {},
   "outputs": [],
   "source": []
  }
 ],
 "metadata": {
  "interpreter": {
   "hash": "916dbcbb3f70747c44a77c7bcd40155683ae19c65e1c03b4aa3499c5328201f1"
  },
  "kernelspec": {
   "display_name": "Python 3.9.7 64-bit",
   "language": "python",
   "name": "python3"
  },
  "language_info": {
   "codemirror_mode": {
    "name": "ipython",
    "version": 3
   },
   "file_extension": ".py",
   "mimetype": "text/x-python",
   "name": "python",
   "nbconvert_exporter": "python",
   "pygments_lexer": "ipython3",
   "version": "3.10.2"
  },
  "orig_nbformat": 4
 },
 "nbformat": 4,
 "nbformat_minor": 2
}
