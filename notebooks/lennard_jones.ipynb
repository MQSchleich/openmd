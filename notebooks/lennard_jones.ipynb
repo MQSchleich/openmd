{
 "cells": [
  {
   "cell_type": "markdown",
   "metadata": {},
   "source": [
    "<h1>Documentation</h1>\n",
    "<h2>Jupyter setup on JUWELS nodes</h2>\n",
    "<ul>\n",
    "    <li><code>jutil -h</code></li>\n",
    "    <li><code>jutil env activate -p training2203</code></li>\n",
    "    <li><code>ln -s /p/project/training2203/pynamics/ ~/pynamics</code></li>\n",
    "    <li>Copy start_jupyter-jsc.sh to $HOME/.jupyter/ <br><code>cp /p/project/training2203/pynamics/openmd/start_jupyter-jsc.sh $HOME/.jupyter/start_jupyter-jsc.sh</code></li>\n",
    "</ul>\n",
    "<h2>Convert Jupyter Notebook to .py</h2>\n",
    "<ul>\n",
    "   <li><code>cp $EBROOTJUPYTER/share/jupyter/nbconvert/templates/python/index.py.j2 ./</code></li>\n",
    "   <li><code>cp $EBROOTJUPYTER/share/jupyter/nbconvert/templates/base/null.j2 ./</code></li>\n",
    "   <li><code>jupyter nbconvert --to script NOTEBOOK_FILE.ipynb</code></li>\n",
    "</ul>\n",
    "<h2>Monitor resources with line_profiler</h2>\n",
    "<ul>\n",
    "    <li>Import line_profiler in respective .py file: <code>import line_profiler</code></li>\n",
    "    <li>Select functions to be profiled by adding remark before start of function declaration: <code>@profile</code></li>\n",
    "    <li>Run .py file: <code>kernprof -l PYTHON_FILE.py</code></li>\n",
    "    <li>Show ouput: <code>python -m line_profiler lennard_jones.py.lprof</code></li>\n",
    "</ul>"
   ]
  },
  {
   "cell_type": "markdown",
   "metadata": {},
   "source": [
    "## 1. Simulate standard example of two particles with an unstable algorithm"
   ]
  },
  {
   "cell_type": "code",
   "execution_count": 1,
   "metadata": {},
   "outputs": [],
   "source": [
    "%matplotlib inline\n",
    "\n",
    "#import pycuda.driver as cuda\n",
    "#import pycuda.autoinit\n",
    "#from pycuda.compiler import SourceModule\n",
    "import numpy as np \n",
    "import sys\n",
    "import os\n",
    "import matplotlib.pyplot as plt \n",
    "#import line_profiler"
   ]
  },
  {
   "cell_type": "code",
   "execution_count": 3,
   "metadata": {},
   "outputs": [
    {
     "name": "stdout",
     "output_type": "stream",
     "text": [
      "/home/julian/Documents/openmd/openmd\n"
     ]
    },
    {
     "name": "stderr",
     "output_type": "stream",
     "text": [
      "/home/julian/Documents/openmd/openmd/openmd/SimulatorLJ.py:177: RuntimeWarning: divide by zero encountered in true_divide\n",
      "  force_t = -48 * epsilon * np.power(sigma, 12) / np.power(\n",
      "/home/julian/Documents/openmd/openmd/openmd/SimulatorLJ.py:179: RuntimeWarning: divide by zero encountered in true_divide\n",
      "  ) - 24 * epsilon * np.power(sigma, 7) / np.power(difference, 7)\n",
      "/home/julian/Documents/openmd/openmd/openmd/SimulatorLJ.py:235: RuntimeWarning: invalid value encountered in subtract\n",
      "  difference = positions - particle\n"
     ]
    }
   ],
   "source": [
    "module_path = os.path.abspath(os.path.join('..'))\n",
    "print(module_path)\n",
    "if module_path not in sys.path:\n",
    "    sys.path.append(module_path+\"/openmd\")\n",
    "\n",
    "from SimulatorLJ import SimulatorLJ as Simulator\n",
    "\n",
    "\n",
    "gamma = 0.1\n",
    "dt = 0.001\n",
    "coordinates = np.array([[0,1,0],[0,2,0]])\n",
    "velocities = gamma*np.array([[0,1,0],[0,-1,0]])\n",
    "constants = [1.0, 0.5]\n",
    "box_len = 6\n",
    "sim = Simulator(\n",
    "    path = r\"./output\",\n",
    "    title = \"test_1\",\n",
    "    mass = 1,\n",
    "    sim_time= 10 ,\n",
    "    time_step = dt,\n",
    "    initial_values = [coordinates,velocities],\n",
    "    box_length = box_len,\n",
    "    force=None,\n",
    "    force_constants=constants,\n",
    "    integrator=None,   \n",
    "    periodic=True,\n",
    ")\n",
    "\n",
    "positions, velocities =sim.simulate()"
   ]
  },
  {
   "cell_type": "code",
   "execution_count": 4,
   "metadata": {},
   "outputs": [
    {
     "data": {
      "text/plain": [
       "[<matplotlib.lines.Line2D at 0x7f2adcfe2ef0>,\n",
       " <matplotlib.lines.Line2D at 0x7f2adcfe2e90>,\n",
       " <matplotlib.lines.Line2D at 0x7f2adce42c50>]"
      ]
     },
     "execution_count": 4,
     "metadata": {},
     "output_type": "execute_result"
    },
    {
     "data": {
      "image/png": "[encoded data removed]",
      "text/plain": [
       "<Figure size 432x288 with 1 Axes>"
      ]
     },
     "metadata": {
      "needs_background": "light"
     },
     "output_type": "display_data"
    }
   ],
   "source": [
    "plt.plot(positions[0,:,:].T)"
   ]
  },
  {
   "cell_type": "markdown",
   "metadata": {},
   "source": [
    "# 2. Stable algorithm"
   ]
  },
  {
   "cell_type": "code",
   "execution_count": 5,
   "metadata": {},
   "outputs": [],
   "source": [
    "\n",
    "def force_lj_fast( positions, constants, box_length):\n",
    "    \"\"\"\n",
    "    :param positions:\n",
    "    :type positions:\n",
    "    :param constants:\n",
    "    :type constants:\n",
    "    :param box_length:\n",
    "    :type box_length:\n",
    "    :return:\n",
    "    :rtype:\n",
    "    \"\"\"\n",
    "    \n",
    "    epsilon, sigma = constants\n",
    "    num = positions.shape[0]\n",
    "    force = np.zeros((num, num, 3))\n",
    "    for i in range(0, num - 1):\n",
    "        for j in range(i + 1, num):\n",
    "            ###############\n",
    "            difference = positions[j, :] - positions[i, :]\n",
    "            distance = np.linalg.norm(difference)\n",
    "            if distance > box_length / 2:\n",
    "                distance -= box_length / 2\n",
    "            elif distance <= -box_length / 2:\n",
    "                distance += box_length / 2\n",
    "            \n",
    "            #################\n",
    "            if distance == 0: \n",
    "                force[i,j] = 0 \n",
    "                force[j,i] = 0\n",
    "                break\n",
    "            lj_part = (sigma / distance) ** 6\n",
    "            lj_part_two = lj_part ** 2\n",
    "            factor = 24 * epsilon\n",
    "            factor_two = 2 * factor\n",
    "            force[i, j, :] = (factor_two * lj_part_two - factor * lj_part) * (difference/distance)\n",
    "            force[j, i, :] -= force[i, j, :]\n",
    "    #print(np.sum(force, axis=1))\n",
    "    return np.sum(force, axis=1)"
   ]
  },
  {
   "cell_type": "code",
   "execution_count": 6,
   "metadata": {},
   "outputs": [
    {
     "data": {
      "text/plain": [
       "<function __main__.force_lj_fast(positions, constants, box_length)>"
      ]
     },
     "execution_count": 6,
     "metadata": {},
     "output_type": "execute_result"
    }
   ],
   "source": [
    "sim.force = force_lj_fast\n",
    "sim.force"
   ]
  },
  {
   "cell_type": "code",
   "execution_count": 19,
   "metadata": {},
   "outputs": [
    {
     "data": {
      "text/plain": [
       "<function __main__.force_lj_fast(positions, constants, box_length)>"
      ]
     },
     "execution_count": 19,
     "metadata": {},
     "output_type": "execute_result"
    }
   ],
   "source": [
    "gamma = 0.1\n",
    "dt = 0.001\n",
    "coordinates = np.load(\"test_samples/test_sample__n_50_s_0.25_eps_0.25_.npy\")\n",
    "velocities = np.zeros(coordinates.shape)\n",
    "constants = [1.0, 0.5]\n",
    "box_len = 6\n",
    "sim = Simulator(\n",
    "    path = r\"./output\",\n",
    "    title = \"test_1\",\n",
    "    mass = 4,\n",
    "    sim_time= 1000*dt ,\n",
    "    time_step = dt,\n",
    "    initial_values = [coordinates,velocities],\n",
    "    box_length = box_len,\n",
    "    force=None,\n",
    "    force_constants=constants,\n",
    "    integrator=None,   \n",
    "    periodic=True,\n",
    ")\n",
    "sim.force = force_lj_fast\n",
    "sim.force"
   ]
  },
  {
   "cell_type": "code",
   "execution_count": 20,
   "metadata": {},
   "outputs": [
    {
     "name": "stdout",
     "output_type": "stream",
     "text": [
      "15 s ± 1.15 s per loop (mean ± std. dev. of 7 runs, 1 loop each)\n"
     ]
    }
   ],
   "source": [
    "%timeit -n 1 positions, velocities =sim.simulate()"
   ]
  },
  {
   "cell_type": "code",
   "execution_count": null,
   "metadata": {},
   "outputs": [],
   "source": [
    "plt.plot(positions[1, 1,:].T)\n",
    "plt.show()"
   ]
  },
  {
   "cell_type": "code",
   "execution_count": null,
   "metadata": {},
   "outputs": [],
   "source": [
    "def energy_lj(positions, constants, box_length):\n",
    "    \"\"\"\n",
    "    \"\"\"\n",
    "    for i in range(0, num - 1):\n",
    "        for j in range(i + 1, num):\n",
    "            difference = positions[j, :] - positions[i, :]\n",
    "            distance = np.linalg.norm(difference)\n",
    "            if distance > box_length * 0.5:\n",
    "                distance -= box_length * 0.5\n",
    "            elif distance <= -box_length * 0.5:\n",
    "                distance += box_length * 0.5\n",
    "\n",
    "\n",
    "def energy_lj_fast(positions, constants, box_length):\n",
    "    \"\"\"Fast energy calculation, e.g. for MC initialization\n",
    "\n",
    "    Args:\n",
    "        positions ([type]): [description]\n",
    "        constants ([type]): [description]\n",
    "        box_length ([type]): [description]\n",
    "\n",
    "    Returns:\n",
    "        [type]: [description]\n",
    "    \"\"\"\n",
    "    epsilon, sigma = constants\n",
    "    separations = positions[:, None, :] - positions\n",
    "    # check periodic boundary conditions\n",
    "    separations[separations > box_length * 0.5] -= box_length\n",
    "    separations[separations <= -box_length * 0.5] += box_length\n",
    "\n",
    "    # calculate NxN matrix with distances |r[i] - r[j]|\n",
    "    # set zero values to None for calculation of acceleration\n",
    "\n",
    "    ## Replace using CUDA numerics\n",
    "    distances = np.linalg.norm(separations, axis=-1)\n",
    "    distances[distances == 0] = None\n",
    "\n",
    "    # calculate potential energy for Lennard Jones potential\n",
    "    e_pot = (\n",
    "        4\n",
    "        * epsilon\n",
    "        * (np.power((distances / sigma), -12) - np.power((distances / sigma), -6))\n",
    "    )\n",
    "    e_pot[np.isnan(e_pot)] = 0\n",
    "    \n",
    "    ## Replace using CUDA numerics\n",
    "    return np.sum(e_pot)\n",
    "\n",
    "\n",
    "def kinetic_energy(V, M):\n",
    "    \"\"\"Calculates the kinetic energy \n",
    "\n",
    "    Args:\n",
    "        V ([type]): [description]\n",
    "        M ([type]): [description]\n",
    "    \"\"\"\n",
    "\n",
    "    # normed_vel =np.sum(0.5 * M*V*V,axis=0)\n",
    "    # assert 1 == 2, str(len(V))\n",
    "    e_kin = 0\n",
    "    for i in range(len(V)):\n",
    "        e_kin += 0.5 * M * np.sum(np.square(V[i, :]))\n",
    "    return e_kin\n",
    "\n",
    "\n",
    "def energy_gravity(positions, constants, box_length):\n",
    "    \"\"\"Potential energy calculation for the gravitational potential\n",
    "\n",
    "    Args:\n",
    "        positions ([type]): [description]\n",
    "        constants ([type]): [description]\n",
    "        box_length ([type]): [description]\n",
    "    \"\"\"\n",
    "    G = constants[0]\n",
    "    separations = positions[:, None, :] - positions\n",
    "\n",
    "    # check periodic boundary conditions\n",
    "    separations[separations > box_length * 0.5] -= box_length\n",
    "    separations[separations <= -box_length * 0.5] += box_length\n",
    "\n",
    "    # calculate NxN matrix with distances |r[i] - r[j]|\n",
    "    # set zero values to None for calculation of acceleration\n",
    "\n",
    "    ## Replace using CUDA\n",
    "    distances = np.linalg.norm(separations, axis=-1)\n",
    "    distances[distances == 0] = None\n",
    "\n",
    "    # calculate potential energy for Lennard Jones potential\n",
    "    e_pot = -1 * G * 1 / distances\n",
    "    e_pot[np.isnan(e_pot)] = 0\n",
    "\n",
    "    return np.sum(e_pot)"
   ]
  },
  {
   "cell_type": "code",
   "execution_count": null,
   "metadata": {},
   "outputs": [],
   "source": [
    "energy =[]\n",
    "e_kin = []\n",
    "for i in range(positions.shape[2]): \n",
    "    energy.append(energy_lj_fast(positions[:,:,i], constants=constants, box_length=box_len))\n",
    "    e_kin.append(kinetic_energy(velocities[:, :, i], 1))\n",
    "    "
   ]
  },
  {
   "cell_type": "code",
   "execution_count": null,
   "metadata": {},
   "outputs": [],
   "source": [
    "plt.plot(energy)\n",
    "plt.show()"
   ]
  },
  {
   "cell_type": "code",
   "execution_count": null,
   "metadata": {},
   "outputs": [],
   "source": [
    "plt.plot(e_kin)\n",
    "plt.show()"
   ]
  },
  {
   "cell_type": "code",
   "execution_count": null,
   "metadata": {},
   "outputs": [],
   "source": [
    "plt.plot(sum(energy, e_kin))\n",
    "plt.show()"
   ]
  },
  {
   "cell_type": "code",
   "execution_count": null,
   "metadata": {},
   "outputs": [],
   "source": []
  },
  {
   "cell_type": "code",
   "execution_count": null,
   "metadata": {},
   "outputs": [],
   "source": []
  }
 ],
 "metadata": {
  "interpreter": {
   "hash": "916dbcbb3f70747c44a77c7bcd40155683ae19c65e1c03b4aa3499c5328201f1"
  },
  "kernelspec": {
   "display_name": "Python 3 (ipykernel)",
   "language": "python",
   "name": "python3"
  },
  "language_info": {
   "codemirror_mode": {
    "name": "ipython",
    "version": 3
   },
   "file_extension": ".py",
   "mimetype": "text/x-python",
   "name": "python",
   "nbconvert_exporter": "python",
   "pygments_lexer": "ipython3",
   "version": "3.10.2"
  },
  "toc-showmarkdowntxt": true
 },
 "nbformat": 4,
 "nbformat_minor": 4
}
