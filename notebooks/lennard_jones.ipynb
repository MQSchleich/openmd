{
 "cells": [
  {
   "cell_type": "code",
   "execution_count": 3,
   "metadata": {},
   "outputs": [
    {
     "name": "stdout",
     "output_type": "stream",
     "text": [
      "/home/julian/Documents/openmd/openmd\n"
     ]
    }
   ],
   "source": [
    "\n",
    "import numpy as np \n",
    "import sys\n",
    "import os\n",
    "\n",
    "module_path = os.path.abspath(os.path.join('..'))\n",
    "print(module_path)\n",
    "if module_path not in sys.path:\n",
    "    sys.path.append(module_path+\"/openmd\")\n",
    "\n",
    "from SimulatorLJ import SimulatorLJ as Simulator\n",
    "\n",
    "def initialize(num_part, sigma, length):\n",
    "    \"\"\"\n",
    "    :param num_part:\n",
    "    :type num_part:\n",
    "    :return:\n",
    "    :rtype:\n",
    "    \"\"\"\n",
    "    coordinates = np.zeros((num_part, 3))\n",
    "    pos_x = (0, length, 2**(1/6)*sigma)\n",
    "    i = 0\n",
    "    for x in pos_x:\n",
    "        for y in pos_x:\n",
    "            for z in pos_x:\n",
    "                coordinates[i, :] = np.array([x , y ,z])\n",
    "                i += 1\n",
    "                if i == num_part-1:\n",
    "                    break\n",
    "            if i == num_part - 1:\n",
    "                break\n",
    "        if i == num_part - 1:\n",
    "            break\n",
    "    return coordinates\n",
    "\n",
    "coordinates = initialize(64, 1, 6)\n",
    "velocities = np.zeros((64,3))\n",
    "sim = Simulator(\n",
    "    mass = 1,\n",
    "    sim_time= 100,\n",
    "    time_step = 1,\n",
    "    initial_values = [coordinates,velocities],\n",
    "    box_length = 6 ,\n",
    "    force=None,\n",
    "    force_constants=[1, 1],\n",
    "    integrator=None,\n",
    "    periodic=True,\n",
    ")\n",
    "positions, velocities = sim.simulate()"
   ]
  },
  {
   "cell_type": "code",
   "execution_count": 7,
   "metadata": {},
   "outputs": [
    {
     "data": {
      "text/plain": [
       "[<matplotlib.lines.Line2D at 0x7f7e626d4f40>,\n",
       " <matplotlib.lines.Line2D at 0x7f7e626d4fa0>,\n",
       " <matplotlib.lines.Line2D at 0x7f7e626d50c0>]"
      ]
     },
     "execution_count": 7,
     "metadata": {},
     "output_type": "execute_result"
    },
    {
     "data": {
      "image/png": "[encoded data removed]",
      "text/plain": [
       "<Figure size 432x288 with 1 Axes>"
      ]
     },
     "metadata": {
      "needs_background": "light"
     },
     "output_type": "display_data"
    }
   ],
   "source": [
    "import matplotlib.pyplot as plt \n",
    "plt.plot(positions[0,:,:].T)"
   ]
  },
  {
   "cell_type": "code",
   "execution_count": null,
   "metadata": {},
   "outputs": [],
   "source": []
  }
 ],
 "metadata": {
  "interpreter": {
   "hash": "916dbcbb3f70747c44a77c7bcd40155683ae19c65e1c03b4aa3499c5328201f1"
  },
  "kernelspec": {
   "display_name": "Python 3.9.7 64-bit",
   "language": "python",
   "name": "python3"
  },
  "language_info": {
   "codemirror_mode": {
    "name": "ipython",
    "version": 3
   },
   "file_extension": ".py",
   "mimetype": "text/x-python",
   "name": "python",
   "nbconvert_exporter": "python",
   "pygments_lexer": "ipython3",
   "version": "3.10.2"
  },
  "orig_nbformat": 4
 },
 "nbformat": 4,
 "nbformat_minor": 2
}
