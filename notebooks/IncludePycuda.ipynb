{
 "cells": [
  {
   "cell_type": "code",
   "execution_count": 1,
   "id": "12d2424f-5ad7-4b9b-838e-41af820a317a",
   "metadata": {},
   "outputs": [],
   "source": [
    "import numpy as np \n",
    "import sys\n",
    "import os\n",
    "import matplotlib.pyplot as plt \n",
    "module_path = os.path.abspath(os.path.join('..'))\n",
    "if module_path not in sys.path:\n",
    "    sys.path.append(module_path+\"/openmd\")\n",
    "from SimulatorLJ import SimulatorLJ as Simulator\n"
   ]
  },
  {
   "cell_type": "code",
   "execution_count": null,
   "id": "0e89a713-ffd1-42a4-8a13-e23cc7e19f25",
   "metadata": {},
   "outputs": [],
   "source": []
  },
  {
   "cell_type": "code",
   "execution_count": 15,
   "id": "cb244531-dc5d-4265-bfbe-b26a10e4e695",
   "metadata": {},
   "outputs": [],
   "source": [
    "\n",
    "def force_lj_fast( positions, constants, box_length):\n",
    "    \"\"\"\n",
    "    :param positions:\n",
    "    :type positions:\n",
    "    :param constants:\n",
    "    :type constants:\n",
    "    :param box_length:\n",
    "    :type box_length:\n",
    "    :return:\n",
    "    :rtype:\n",
    "    \"\"\"\n",
    "    \n",
    "    epsilon, sigma = constants\n",
    "    num = positions.shape[0]\n",
    "    force = np.zeros((num, num, 3))\n",
    "    for i in range(0, num - 1):\n",
    "        for j in range(i + 1, num):\n",
    "            ###############\n",
    "            difference = positions[j, :] - positions[i, :]\n",
    "            distance = np.linalg.norm(difference)\n",
    "            if distance > box_length / 2:\n",
    "                distance -= box_length / 2\n",
    "            elif distance <= -box_length / 2:\n",
    "                distance += box_length / 2\n",
    "            \n",
    "            #################\n",
    "            if distance == 0: \n",
    "                force[i,j] = 0 \n",
    "                force[j,i] = 0\n",
    "                break\n",
    "            lj_part = (sigma / distance) ** 6\n",
    "            lj_part_two = lj_part ** 2\n",
    "            factor = 24 * epsilon\n",
    "            factor_two = 2 * factor\n",
    "            force[i, j, :] = (factor_two * lj_part_two - factor * lj_part) * (difference/distance)\n",
    "            force[j, i, :] -= force[i, j, :]\n",
    "    #print(np.sum(force, axis=1))\n",
    "    return np.sum(force, axis=1)"
   ]
  },
  {
   "cell_type": "code",
   "execution_count": 16,
   "id": "264870b3-a286-4c1c-8b04-0eb2a38de804",
   "metadata": {},
   "outputs": [
    {
     "data": {
      "text/plain": [
       "<function __main__.force_lj_fast(positions, constants, box_length)>"
      ]
     },
     "execution_count": 16,
     "metadata": {},
     "output_type": "execute_result"
    }
   ],
   "source": [
    "dt = 0.001\n",
    "positions = np.load(\"test_samples/test_sample__n_50_s_0.25_eps_0.25_.npy\")\n",
    "velocities = np.zeros(positions.shape)\n",
    "constants = [1.0, 0.5]\n",
    "box_length = 6\n",
    "sim = Simulator(\n",
    "    path = r\"./output\",\n",
    "    title = \"test_1\",\n",
    "    mass = 4,\n",
    "    sim_time= 1000*dt ,\n",
    "    time_step = dt,\n",
    "    initial_values = [positions,velocities],\n",
    "    box_length = box_length,\n",
    "    force=None,\n",
    "    force_constants=constants,\n",
    "    integrator=None,   \n",
    "    periodic=True,\n",
    ")\n",
    "sim.force = force_lj_fast\n",
    "sim.force"
   ]
  },
  {
   "cell_type": "code",
   "execution_count": 151,
   "id": "13282137-cf93-42ee-9201-5f47bc193d25",
   "metadata": {},
   "outputs": [],
   "source": [
    "\n",
    "def distance_new( positions, constants, box_length):\n",
    "    \"\"\"\n",
    "    :param positions:\n",
    "    :type positions:\n",
    "    :param constants:\n",
    "    :type constants:\n",
    "    :param box_length:\n",
    "    :type box_length:\n",
    "    :return:\n",
    "    :rtype:\n",
    "    \"\"\"\n",
    "    \n",
    "    epsilon, sigma = constants\n",
    "    sigma_six = sigma**6\n",
    "    prefactor_lj = 24*epsilon*sigma_six\n",
    "    num = positions.shape[0]\n",
    "    nvdim = positions.shape[1] # get nvdim for row major writing of matrices \n",
    "    position_rm = np.ravel(positions) #row major\n",
    "    \n",
    "    dmRM_CPU=np.zeros((num, num),dtype=np.float64,order='C')\n",
    "    dmRM_CPU = np.ravel(dmRM_CPU)\n",
    "    FRM_CPU = np.ravel(np.zeros((num, nvdim),dtype=np.float64,order='C'))\n",
    "    \n",
    "    \n",
    "    for i in range(num):\n",
    "        for j in range(i+1,num):\n",
    "            dist = 0\n",
    "            for k in range(nvdim):\n",
    "                ab = position_rm[i*nvdim + k] - position_rm[j*nvdim + k]\n",
    "                dist += ab*ab\n",
    "            temp_dmRM = 1/np.sqrt(dist)\n",
    "            temp_dmRM2 = temp_dmRM*temp_dmRM\n",
    "            temp_dmRM6 = temp_dmRM2*temp_dmRM2*temp_dmRM2\n",
    "            temp_dmRM8 = temp_dmRM6*temp_dmRM2\n",
    "            for k in range(nvdim):\n",
    "                ab = position_rm[i*nvdim + k] - position_rm[j*nvdim + k]\n",
    "                #print(i*num + k)\n",
    "                FRM_CPU[i*num + k] = (prefactor_lj/temp_dmRM8)*(((2*sigma_six)/temp_dmRM6)-1) * ab\n",
    "            \n",
    "    return FRM_CPU"
   ]
  },
  {
   "cell_type": "code",
   "execution_count": 152,
   "id": "c74416dc-816f-4416-87bb-6c4e0d98a54e",
   "metadata": {},
   "outputs": [],
   "source": [
    "positions = np.random.random((2,3))"
   ]
  },
  {
   "cell_type": "code",
   "execution_count": 153,
   "id": "cec70f4e-3d1c-4b49-9fdb-de1b7b9210f4",
   "metadata": {},
   "outputs": [
    {
     "name": "stdout",
     "output_type": "stream",
     "text": [
      "35 µs ± 14.3 µs per loop (mean ± std. dev. of 7 runs, 30 loops each)\n"
     ]
    }
   ],
   "source": [
    "%timeit -n 30 distances_new = distance_new( positions, constants, box_length)"
   ]
  },
  {
   "cell_type": "code",
   "execution_count": 155,
   "id": "00089f2e-fa1f-4de0-83f6-81b7165ac795",
   "metadata": {},
   "outputs": [
    {
     "name": "stdout",
     "output_type": "stream",
     "text": [
      "[ 0.3944684   0.          0.         -0.01754702  0.          0.\n",
      "  0.          0.          0.        ]\n"
     ]
    }
   ],
   "source": [
    "distances_new = distance_new( positions, constants, box_length)\n",
    "print(diffdis)\n"
   ]
  },
  {
   "cell_type": "code",
   "execution_count": null,
   "id": "36d56327-14ae-45e4-813f-08ba9d93e3aa",
   "metadata": {},
   "outputs": [],
   "source": []
  },
  {
   "cell_type": "code",
   "execution_count": null,
   "id": "d12603da-518c-49fa-a327-72355eb760d6",
   "metadata": {},
   "outputs": [],
   "source": []
  },
  {
   "cell_type": "code",
   "execution_count": null,
   "id": "0fb0c554-6357-4581-a0e2-68f357391315",
   "metadata": {},
   "outputs": [],
   "source": []
  },
  {
   "cell_type": "code",
   "execution_count": 42,
   "id": "064aa127-489e-40b8-9744-ed8d7264aa49",
   "metadata": {},
   "outputs": [],
   "source": [
    "positions = np.random.random((3,3))"
   ]
  },
  {
   "cell_type": "code",
   "execution_count": 160,
   "id": "cb0d60d9-8790-422f-bf0f-84131166fa71",
   "metadata": {},
   "outputs": [],
   "source": [
    "from numba import njit\n",
    "@njit()\n",
    "def distance_old( positions, constants, box_length):\n",
    "    positions = positions.T\n",
    "    epsilon, sigma = constants\n",
    "    sigma_six = sigma**6\n",
    "    prefactor_lj = 24*epsilon*sigma_six\n",
    "    num = positions.shape[1]\n",
    "    distances_sq = np.zeros((num, num))\n",
    "    forces = np.zeros((positions.shape[0], num))\n",
    "    for i in range(0, num - 1):\n",
    "        for j in range(i + 1, num):\n",
    "            ###############\n",
    "            difference = positions[:, j] - positions[:, i]\n",
    "            distance = np.sqrt(difference[0]**2 + difference[1]**2 + difference[2]**2)\n",
    "            distance = 1/distance\n",
    "            distance_sq = distance*distance\n",
    "            distance_six = distance_sq*distance_sq*distance_sq\n",
    "            distance_eight = distance_six*distance_sq\n",
    "            prefactor = prefactor_lj*distance_eight\n",
    "            bracket = ((2*sigma)*distance_six - 1)\n",
    "            result = prefactor*bracket\n",
    "            force = result * difference\n",
    "            forces[:, i] += force\n",
    "            forces[:, j] -= force \n",
    "            #distances_sq[i, j] = inv_dist**2\n",
    "            \n",
    "            #distances[j, i] = distance\n",
    "            \n",
    "            #if distance > box_length / 2:\n",
    "            #    distance -= box_length / 2\n",
    "            #elif distance <= -box_length / 2:\n",
    "            #    distance += box_length / 2\n",
    "            \n",
    "            #################\n",
    "\n",
    "    return forces"
   ]
  },
  {
   "cell_type": "code",
   "execution_count": 161,
   "id": "9bff4f41-280f-4c91-b6db-53c46fe44cb0",
   "metadata": {},
   "outputs": [
    {
     "name": "stderr",
     "output_type": "stream",
     "text": [
      "/home/julian/anaconda3/envs/openmd/lib/python3.10/site-packages/numba/core/ir_utils.py:2152: NumbaPendingDeprecationWarning: \n",
      "Encountered the use of a type that is scheduled for deprecation: type 'reflected list' found for argument 'constants' of function 'distance_old'.\n",
      "\n",
      "For more information visit https://numba.pydata.org/numba-doc/latest/reference/deprecation.html#deprecation-of-reflection-for-list-and-set-types\n",
      "\n",
      "File \"../../../../../../tmp/ipykernel_5355/597338373.py\", line 2:\n",
      "<source missing, REPL/exec in use?>\n",
      "\n",
      "  warnings.warn(NumbaPendingDeprecationWarning(msg, loc=loc))\n"
     ]
    },
    {
     "name": "stdout",
     "output_type": "stream",
     "text": [
      "[[-0.01834705  0.01834705]\n",
      " [-0.01834705  0.01834705]\n",
      " [-0.0366941   0.0366941 ]]\n"
     ]
    }
   ],
   "source": [
    "constants = [1,1]\n",
    "positions = np.array([[0,0,0], [1,1, 2]])\n",
    "distances_old = distance_old( positions, constants, box_length)\n",
    "print(distances_old)"
   ]
  },
  {
   "cell_type": "code",
   "execution_count": 142,
   "id": "1584d769-d6f1-42f4-aee3-a0fd0328b85b",
   "metadata": {},
   "outputs": [
    {
     "name": "stdout",
     "output_type": "stream",
     "text": [
      "[[ 24. -24.]\n",
      " [  0.   0.]\n",
      " [  0.   0.]]\n"
     ]
    }
   ],
   "source": [
    "constants = [1,1]\n",
    "positions = np.array([[0,0,0], [1,0, 0]])\n",
    "distances_old = distance_old( positions, constants, box_length)\n",
    "print(distances_old)"
   ]
  },
  {
   "cell_type": "code",
   "execution_count": 143,
   "id": "48d7ca8b-1bad-4bfa-9a91-595299723cfc",
   "metadata": {},
   "outputs": [
    {
     "data": {
      "text/plain": [
       "-0.27434842249657077"
      ]
     },
     "execution_count": 143,
     "metadata": {},
     "output_type": "execute_result"
    }
   ],
   "source": [
    "distance = np.sqrt(3)\n",
    "prefactor = 24/distance**8\n",
    "bracket = (2/distance**6 - 1)\n",
    "result = prefactor*bracket\n",
    "result "
   ]
  },
  {
   "cell_type": "code",
   "execution_count": 144,
   "id": "b9323bf7-cfed-4c3d-86c5-0c37ba7dacdb",
   "metadata": {},
   "outputs": [
    {
     "name": "stdout",
     "output_type": "stream",
     "text": [
      "[[ 24. -24.]\n",
      " [  0.   0.]\n",
      " [  0.   0.]]\n"
     ]
    }
   ],
   "source": [
    "constants = [1,1]\n",
    "distances_old = distance_old( positions, constants, box_length)\n",
    "print(distances_old)"
   ]
  },
  {
   "cell_type": "code",
   "execution_count": 162,
   "id": "b74ebc3f-e13b-4e76-a446-2b3386570a3b",
   "metadata": {},
   "outputs": [
    {
     "name": "stderr",
     "output_type": "stream",
     "text": [
      "/home/julian/anaconda3/envs/openmd/lib/python3.10/site-packages/numba/core/ir_utils.py:2152: NumbaPendingDeprecationWarning: \n",
      "Encountered the use of a type that is scheduled for deprecation: type 'reflected list' found for argument 'constants' of function 'distance_old'.\n",
      "\n",
      "For more information visit https://numba.pydata.org/numba-doc/latest/reference/deprecation.html#deprecation-of-reflection-for-list-and-set-types\n",
      "\n",
      "File \"../../../../../../tmp/ipykernel_5355/597338373.py\", line 2:\n",
      "<source missing, REPL/exec in use?>\n",
      "\n",
      "  warnings.warn(NumbaPendingDeprecationWarning(msg, loc=loc))\n"
     ]
    },
    {
     "name": "stdout",
     "output_type": "stream",
     "text": [
      "The slowest run took 17.42 times longer than the fastest. This could mean that an intermediate result is being cached.\n",
      "3.79 ms ± 6.48 ms per loop (mean ± std. dev. of 7 runs, 30 loops each)\n"
     ]
    }
   ],
   "source": [
    "positions = np.random.random((100,3))\n",
    "%timeit -n 30 distances_old = distance_old( positions, constants, box_length)"
   ]
  },
  {
   "cell_type": "code",
   "execution_count": 65,
   "id": "b32e9f21-5da9-40a7-a735-c91c6b9ba29a",
   "metadata": {},
   "outputs": [
    {
     "ename": "ValueError",
     "evalue": "operands could not be broadcast together with shapes (300,) (10000,) ",
     "output_type": "error",
     "traceback": [
      "\u001b[0;31m---------------------------------------------------------------------------\u001b[0m",
      "\u001b[0;31mValueError\u001b[0m                                Traceback (most recent call last)",
      "Input \u001b[0;32mIn [65]\u001b[0m, in \u001b[0;36m<module>\u001b[0;34m\u001b[0m\n\u001b[1;32m      1\u001b[0m distances_new \u001b[38;5;241m=\u001b[39m distance_new( positions, constants, box_length)\n\u001b[1;32m      2\u001b[0m distances_old \u001b[38;5;241m=\u001b[39m distance_old( positions, constants, box_length)\n\u001b[0;32m----> 3\u001b[0m \u001b[43mnp\u001b[49m\u001b[38;5;241;43m.\u001b[39;49m\u001b[43mallclose\u001b[49m\u001b[43m(\u001b[49m\u001b[43mnp\u001b[49m\u001b[38;5;241;43m.\u001b[39;49m\u001b[43mravel\u001b[49m\u001b[43m(\u001b[49m\u001b[43mdistances_old\u001b[49m\u001b[43m)\u001b[49m\u001b[43m,\u001b[49m\u001b[43m \u001b[49m\u001b[43mdistances_new\u001b[49m\u001b[43m)\u001b[49m\n",
      "File \u001b[0;32m<__array_function__ internals>:5\u001b[0m, in \u001b[0;36mallclose\u001b[0;34m(*args, **kwargs)\u001b[0m\n",
      "File \u001b[0;32m~/anaconda3/envs/openmd/lib/python3.10/site-packages/numpy/core/numeric.py:2249\u001b[0m, in \u001b[0;36mallclose\u001b[0;34m(a, b, rtol, atol, equal_nan)\u001b[0m\n\u001b[1;32m   2179\u001b[0m \u001b[38;5;129m@array_function_dispatch\u001b[39m(_allclose_dispatcher)\n\u001b[1;32m   2180\u001b[0m \u001b[38;5;28;01mdef\u001b[39;00m \u001b[38;5;21mallclose\u001b[39m(a, b, rtol\u001b[38;5;241m=\u001b[39m\u001b[38;5;241m1.e-5\u001b[39m, atol\u001b[38;5;241m=\u001b[39m\u001b[38;5;241m1.e-8\u001b[39m, equal_nan\u001b[38;5;241m=\u001b[39m\u001b[38;5;28;01mFalse\u001b[39;00m):\n\u001b[1;32m   2181\u001b[0m     \u001b[38;5;124;03m\"\"\"\u001b[39;00m\n\u001b[1;32m   2182\u001b[0m \u001b[38;5;124;03m    Returns True if two arrays are element-wise equal within a tolerance.\u001b[39;00m\n\u001b[1;32m   2183\u001b[0m \n\u001b[0;32m   (...)\u001b[0m\n\u001b[1;32m   2247\u001b[0m \n\u001b[1;32m   2248\u001b[0m \u001b[38;5;124;03m    \"\"\"\u001b[39;00m\n\u001b[0;32m-> 2249\u001b[0m     res \u001b[38;5;241m=\u001b[39m \u001b[38;5;28mall\u001b[39m(\u001b[43misclose\u001b[49m\u001b[43m(\u001b[49m\u001b[43ma\u001b[49m\u001b[43m,\u001b[49m\u001b[43m \u001b[49m\u001b[43mb\u001b[49m\u001b[43m,\u001b[49m\u001b[43m \u001b[49m\u001b[43mrtol\u001b[49m\u001b[38;5;241;43m=\u001b[39;49m\u001b[43mrtol\u001b[49m\u001b[43m,\u001b[49m\u001b[43m \u001b[49m\u001b[43matol\u001b[49m\u001b[38;5;241;43m=\u001b[39;49m\u001b[43matol\u001b[49m\u001b[43m,\u001b[49m\u001b[43m \u001b[49m\u001b[43mequal_nan\u001b[49m\u001b[38;5;241;43m=\u001b[39;49m\u001b[43mequal_nan\u001b[49m\u001b[43m)\u001b[49m)\n\u001b[1;32m   2250\u001b[0m     \u001b[38;5;28;01mreturn\u001b[39;00m \u001b[38;5;28mbool\u001b[39m(res)\n",
      "File \u001b[0;32m<__array_function__ internals>:5\u001b[0m, in \u001b[0;36misclose\u001b[0;34m(*args, **kwargs)\u001b[0m\n",
      "File \u001b[0;32m~/anaconda3/envs/openmd/lib/python3.10/site-packages/numpy/core/numeric.py:2358\u001b[0m, in \u001b[0;36misclose\u001b[0;34m(a, b, rtol, atol, equal_nan)\u001b[0m\n\u001b[1;32m   2356\u001b[0m yfin \u001b[38;5;241m=\u001b[39m isfinite(y)\n\u001b[1;32m   2357\u001b[0m \u001b[38;5;28;01mif\u001b[39;00m \u001b[38;5;28mall\u001b[39m(xfin) \u001b[38;5;129;01mand\u001b[39;00m \u001b[38;5;28mall\u001b[39m(yfin):\n\u001b[0;32m-> 2358\u001b[0m     \u001b[38;5;28;01mreturn\u001b[39;00m \u001b[43mwithin_tol\u001b[49m\u001b[43m(\u001b[49m\u001b[43mx\u001b[49m\u001b[43m,\u001b[49m\u001b[43m \u001b[49m\u001b[43my\u001b[49m\u001b[43m,\u001b[49m\u001b[43m \u001b[49m\u001b[43matol\u001b[49m\u001b[43m,\u001b[49m\u001b[43m \u001b[49m\u001b[43mrtol\u001b[49m\u001b[43m)\u001b[49m\n\u001b[1;32m   2359\u001b[0m \u001b[38;5;28;01melse\u001b[39;00m:\n\u001b[1;32m   2360\u001b[0m     finite \u001b[38;5;241m=\u001b[39m xfin \u001b[38;5;241m&\u001b[39m yfin\n",
      "File \u001b[0;32m~/anaconda3/envs/openmd/lib/python3.10/site-packages/numpy/core/numeric.py:2339\u001b[0m, in \u001b[0;36misclose.<locals>.within_tol\u001b[0;34m(x, y, atol, rtol)\u001b[0m\n\u001b[1;32m   2337\u001b[0m \u001b[38;5;28;01mdef\u001b[39;00m \u001b[38;5;21mwithin_tol\u001b[39m(x, y, atol, rtol):\n\u001b[1;32m   2338\u001b[0m     \u001b[38;5;28;01mwith\u001b[39;00m errstate(invalid\u001b[38;5;241m=\u001b[39m\u001b[38;5;124m'\u001b[39m\u001b[38;5;124mignore\u001b[39m\u001b[38;5;124m'\u001b[39m):\n\u001b[0;32m-> 2339\u001b[0m         \u001b[38;5;28;01mreturn\u001b[39;00m less_equal(\u001b[38;5;28mabs\u001b[39m(\u001b[43mx\u001b[49m\u001b[38;5;241;43m-\u001b[39;49m\u001b[43my\u001b[49m), atol \u001b[38;5;241m+\u001b[39m rtol \u001b[38;5;241m*\u001b[39m \u001b[38;5;28mabs\u001b[39m(y))\n",
      "\u001b[0;31mValueError\u001b[0m: operands could not be broadcast together with shapes (300,) (10000,) "
     ]
    }
   ],
   "source": [
    "distances_new = distance_new( positions, constants, box_length)\n",
    "distances_old = distance_old( positions, constants, box_length)\n",
    "np.allclose(np.ravel(distances_old), distances_new) "
   ]
  },
  {
   "cell_type": "code",
   "execution_count": 2,
   "id": "5b1360f7-090a-4404-be47-87781db37caa",
   "metadata": {},
   "outputs": [],
   "source": [
    "import pycuda.autoinit\n",
    "import pycuda.driver as drv\n",
    "from pycuda.compiler import SourceModule\n",
    "from pycuda import gpuarray\n",
    "from math import sqrt"
   ]
  },
  {
   "cell_type": "code",
   "execution_count": 3,
   "id": "58b0b41b-d16e-4e94-a9f0-07fca8f55af6",
   "metadata": {},
   "outputs": [
    {
     "name": "stdout",
     "output_type": "stream",
     "text": [
      "1024 32\n"
     ]
    }
   ],
   "source": [
    "MAX_THREADS_PER_BLOCK = drv.Device(0).get_attribute(pycuda._driver.device_attribute.MAX_THREADS_PER_BLOCK)\n",
    "BLOCK_SIZE = int(sqrt(MAX_THREADS_PER_BLOCK))\n",
    "print(MAX_THREADS_PER_BLOCK,BLOCK_SIZE)\n",
    "BLOCK_SIZE_X = BLOCK_SIZE\n",
    "BLOCK_SIZE_Y = BLOCK_SIZE #loops "
   ]
  },
  {
   "cell_type": "code",
   "execution_count": 12,
   "id": "5057a384-6532-4904-805f-47179ea33dae",
   "metadata": {},
   "outputs": [
    {
     "name": "stdout",
     "output_type": "stream",
     "text": [
      "[0 1]\n"
     ]
    },
    {
     "name": "stderr",
     "output_type": "stream",
     "text": [
      "/tmp/ipykernel_12688/1604596873.py:12: UserWarning: The CUDA compiler succeeded, but said the following:\n",
      "kernel.cu(36): warning #177-D: variable \"prefactor\" was declared but never referenced\n",
      "\n",
      "kernel.cu(36): warning #177-D: variable \"dist_seven\" was declared but never referenced\n",
      "\n",
      "kernel.cu(36): warning #177-D: variable \"dist_thirteen\" was declared but never referenced\n",
      "\n",
      "\n",
      "  kerneltemplate = SourceModule(\"\"\"\n"
     ]
    }
   ],
   "source": [
    "#!/usr/bin/env python\n",
    "\n",
    "import sys\n",
    "import pycuda.autoinit\n",
    "import pycuda.driver as drv\n",
    "from pycuda.compiler import SourceModule\n",
    "from pycuda import gpuarray\n",
    "from math import sqrt\n",
    "import numpy as np\n",
    "\n",
    "\n",
    "kerneltemplate = SourceModule(\"\"\"\n",
    "#include <math.h>\n",
    "__global__ void\n",
    "gpuDM (float *dm, float *x, int n_dim, int n_vdim){\n",
    "\n",
    "    extern __shared__ float a[];\n",
    "    float dist;\n",
    "    int tidx;\n",
    "\n",
    "    int idx = threadIdx.x + blockDim.x*blockIdx.x;\n",
    "\n",
    "    for (int r=0; r < n_dim; r++) {\n",
    "        dist = 0;\n",
    "        for (int i=0; i<=n_vdim/blockDim.x; i++){\n",
    "            tidx = i*blockDim.x+threadIdx.x;\n",
    "            if (tidx < n_vdim)\n",
    "                a[tidx] = x[r*n_vdim + tidx];\n",
    "        }\n",
    "        __syncthreads();\n",
    "\n",
    "        for(int i=0; i < n_vdim && idx < n_dim; i++){\n",
    "            dist = a[i] - x[idx*n_vdim + i];\n",
    "        }\n",
    "\n",
    "        if ( idx < n_dim ){\n",
    "            dm[idx*n_dim+r] = dist;\n",
    "\t}\n",
    "        __syncthreads();\n",
    "    }\n",
    "}\n",
    "\n",
    "__global__ void\n",
    "gpuForces (float *fx, float *fy, float *fz, float *xrm, float *yrm, float *zrm, float epsilon, float sig, int n_dim){\n",
    "    \n",
    "    float prefactor, dist_seven, dist_thirteen;\n",
    "    float sigma_six = pow(sig, 6);\n",
    "    float prefactor_lj = 24*epsilon*sigma_six;\n",
    "    \n",
    "\n",
    "    int idx = threadIdx.x + blockDim.x*blockIdx.x;\n",
    "    \n",
    "    if ( (idx < n_dim) && ((xrm[idx]!=0) || (yrm[idx]!=0) || (zrm[idx]!=0)) ){\n",
    "        float dist = 1/sqrtf(xrm[idx]*xrm[idx] + yrm[idx]*yrm[idx] + zrm[idx]*zrm[idx]);\n",
    "        float distance_two = dist*dist;\n",
    "        float distance_six = pow(distance_two,3);\n",
    "        float distance_eight = distance_two*distance_six;\n",
    "        float prefactor = prefactor_lj*distance_eight;\n",
    "        float bracket = ((2*sig)*distance_six - 1);\n",
    "        float result = prefactor*bracket;\n",
    "        \n",
    "        fx[idx] = result*xrm[idx];\n",
    "        fy[idx] = result*yrm[idx];\n",
    "        fz[idx] = result*zrm[idx];\n",
    "        \n",
    "    }\n",
    "    __syncthreads();\n",
    "}\n",
    "__global__ void\n",
    "gpuForces (float *fx, float *fy, float *fz, float *positions, float epsilon, float sig, int n_dim){\n",
    "    float prefactor, distance, distance_sq, distance_six, distance_eight, prefactor, bracket, result;\n",
    "    float sigma_six = pow(sig, 6);\n",
    "    float prefactor_lj = 24*epsilon*sigma_six;\n",
    "    \n",
    "    for(int i =0; i<num; i++){\n",
    "        for(int j = i+1; j<num; j++){\n",
    "            ###############\n",
    "            dx = positions[j*3] -   positions[i*3]\n",
    "            dy = positions[j*3+1] - positions[i*3+1]\n",
    "            dz = positions[j*3+2] - positions[i*3+2]\n",
    "            distance = sqrtf(dx*dx + dy*dy + dz*dz)\n",
    "            distance = 1/distance\n",
    "            distance_sq = distance*distance\n",
    "            distance_six = distance_sq*distance_sq*distance_sq\n",
    "            distance_eight = distance_six*distance_sq\n",
    "            prefactor = prefactor_lj*distance_eight\n",
    "            bracket = ((2*sigma)*distance_six - 1)\n",
    "            result = prefactor*bracket\n",
    "            fx[i] += result * dx\n",
    "            fy[i] += result * dy\n",
    "            fz[i] += result * dz\n",
    "            fx[j] -= result * dx\n",
    "            fy[j] -= result * dy\n",
    "            fz[j] -= result * dz\n",
    "            \n",
    "        }\n",
    "    }\n",
    "    \n",
    "    \n",
    "    \n",
    "}\n",
    "\"\"\")\n",
    "dm_gpu = kerneltemplate.get_function(\"gpuDM\")\n",
    "force_gpu = kerneltemplate.get_function(\"gpuForces\")\n",
    "epsilon, sigma = np.int32(constants)\n",
    "MAX_THREADS_PER_BLOCK = drv.Device(0).get_attribute(pycuda._driver.device_attribute.MAX_THREADS_PER_BLOCK)\n",
    "BLOCK_SIZE = int(sqrt(MAX_THREADS_PER_BLOCK))\n",
    "size_of_float = 4\n",
    "#X = positions.astype(p.float64,order='C')\n",
    "XRM = np.ravel(positions[:,0])\n",
    "YRM = np.ravel(positions[:,1])\n",
    "ZRM = np.ravel(positions[:,2])\n",
    "ndim = np.shape(positions)[0]\n",
    "nvdim = np.shape(positions)[1]\n",
    "\n",
    "\n",
    "dm = np.zeros((ndim, ndim),dtype=np.float32,order='C')\n",
    "dmRM = np.ravel(dm)\n",
    "\n",
    "XRM_gpu = gpuarray.to_gpu(XRM)\n",
    "YRM_gpu = gpuarray.to_gpu(YRM)\n",
    "ZRM_gpu = gpuarray.to_gpu(ZRM)\n",
    "\n",
    "dmXRM_gpu = gpuarray.empty(shape=dmRM.shape, dtype=np.float32)\n",
    "dmYRM_gpu = gpuarray.empty(shape=dmRM.shape, dtype=np.float32)\n",
    "dmZRM_gpu = gpuarray.empty(shape=dmRM.shape, dtype=np.float32)\n",
    "smem_size = ndim*nvdim*size_of_float  # float memory \n",
    "\n",
    "dm_gpu(dmXRM_gpu, XRM_gpu, np.int32(ndim), np.int32(1), block=(32,1,1), grid=(1,1,1), shared=smem_size)\n",
    "dm_gpu(dmYRM_gpu, YRM_gpu, np.int32(ndim), np.int32(1), block=(32,1,1), grid=(1,1,1), shared=smem_size)\n",
    "dm_gpu(dmZRM_gpu, ZRM_gpu, np.int32(ndim), np.int32(1), block=(32,1,1), grid=(1,1,1), shared=smem_size)\n",
    "# calculate forces\n",
    "fx_gpu = gpuarray.empty(shape=dmRM.shape, dtype=np.float32)\n",
    "fy_gpu = gpuarray.empty(shape=dmRM.shape, dtype=np.float32)\n",
    "fz_gpu = gpuarray.empty(shape=dmRM.shape, dtype=np.float32)\n",
    "force_gpu(fx_gpu, fy_gpu, fz_gpu, dmXRM_gpu, dmYRM_gpu, dmZRM_gpu, np.int32(1), np.int32(1), np.int32(ndim), block=(1,1,1), grid=(1,1,1))\n",
    "fx_gpu.get() \n",
    "fy_gpu.get() \n",
    "fz_gpu.get() \n",
    "print(XRM_gpu.get())\n",
    "\n",
    "\n",
    "\n"
   ]
  },
  {
   "cell_type": "code",
   "execution_count": 10,
   "id": "4be8e1ed-9a2f-40be-a319-f689b90a532f",
   "metadata": {},
   "outputs": [],
   "source": [
    "def lj_force_gpu(positions, constants, box_length, dm_gpu, force_gpu):\n",
    "# get device information\n",
    "    epsilon, sigma = np.int32(constants)\n",
    "    MAX_THREADS_PER_BLOCK = drv.Device(0).get_attribute(pycuda._driver.device_attribute.MAX_THREADS_PER_BLOCK)\n",
    "    BLOCK_SIZE = int(sqrt(MAX_THREADS_PER_BLOCK))\n",
    "    size_of_float = 4\n",
    "    #X = positions.astype(p.float64,order='C')\n",
    "    XRM = np.ravel(positions[:,0])\n",
    "    YRM = np.ravel(positions[:,1])\n",
    "    ZRM = np.ravel(positions[:,2])\n",
    "    ndim = np.shape(positions)[0]\n",
    "    nvdim = np.shape(positions)[1]\n",
    "\n",
    "\n",
    "    dm = np.zeros((ndim, ndim),dtype=np.float32,order='C')\n",
    "    dmRM = np.ravel(dm)\n",
    "\n",
    "    XRM_gpu = gpuarray.to_gpu(XRM)\n",
    "    YRM_gpu = gpuarray.to_gpu(YRM)\n",
    "    ZRM_gpu = gpuarray.to_gpu(ZRM)\n",
    "\n",
    "    dmXRM_gpu = gpuarray.empty(shape=dmRM.shape, dtype=np.float32)\n",
    "    dmYRM_gpu = gpuarray.empty(shape=dmRM.shape, dtype=np.float32)\n",
    "    dmZRM_gpu = gpuarray.empty(shape=dmRM.shape, dtype=np.float32)\n",
    "    smem_size = ndim*nvdim*size_of_float  # float memory \n",
    "\n",
    "    dm_gpu(dmXRM_gpu, XRM_gpu, np.int32(ndim), np.int32(1), block=(32,1,1), grid=(1,1,1), shared=smem_size)\n",
    "    dm_gpu(dmYRM_gpu, YRM_gpu, np.int32(ndim), np.int32(1), block=(32,1,1), grid=(1,1,1), shared=smem_size)\n",
    "    dm_gpu(dmZRM_gpu, ZRM_gpu, np.int32(ndim), np.int32(1), block=(32,1,1), grid=(1,1,1), shared=smem_size)\n",
    "    fx_gpu = gpuarray.empty(shape=dmRM.shape, dtype=np.float32)\n",
    "    fy_gpu = gpuarray.empty(shape=dmRM.shape, dtype=np.float32)\n",
    "    fz_gpu = gpuarray.empty(shape=dmRM.shape, dtype=np.float32)\n",
    "    force_gpu(fx_gpu, fy_gpu, fz_gpu, dmXRM_gpu, dmYRM_gpu, dmZRM_gpu, np.int32(1), np.int32(1), np.int32(ndim), block=(1,1,1), grid=(1,1,1))\n",
    "    fx_gpu.get() \n",
    "    fy_gpu.get() \n",
    "    fz_gpu.get() \n",
    "    print(XRM_gpu.get())\n",
    "    print(YRM_gpu.get())\n",
    "    print(ZRM_gpu.get())"
   ]
  },
  {
   "cell_type": "code",
   "execution_count": 11,
   "id": "8dbe4389-6749-41f7-b3a5-6ca71aecded5",
   "metadata": {},
   "outputs": [
    {
     "name": "stdout",
     "output_type": "stream",
     "text": [
      "[0 1]\n",
      "[0 1]\n",
      "[0 2]\n",
      "None\n"
     ]
    }
   ],
   "source": [
    "box_length = 3\n",
    "constants = [1,1]\n",
    "positions = np.array([[0,0,0], [1,1, 2]])\n",
    "distances_old = lj_force_gpu( positions, constants, box_length, dm_gpu , force_gpu)\n",
    "print(distances_old)"
   ]
  },
  {
   "cell_type": "code",
   "execution_count": 8,
   "id": "be6e3974-c307-4704-8c37-5e5d4a67a5de",
   "metadata": {},
   "outputs": [
    {
     "ename": "NameError",
     "evalue": "name 'sim' is not defined",
     "output_type": "error",
     "traceback": [
      "\u001b[0;31m---------------------------------------------------------------------------\u001b[0m",
      "\u001b[0;31mNameError\u001b[0m                                 Traceback (most recent call last)",
      "\u001b[0;32m/tmp/ipykernel_12688/489717597.py\u001b[0m in \u001b[0;36m<module>\u001b[0;34m\u001b[0m\n\u001b[0;32m----> 1\u001b[0;31m \u001b[0msim\u001b[0m\u001b[0;34m.\u001b[0m\u001b[0mdm_gpu\u001b[0m \u001b[0;34m=\u001b[0m \u001b[0mdm_gpu\u001b[0m\u001b[0;34m\u001b[0m\u001b[0;34m\u001b[0m\u001b[0m\n\u001b[0m",
      "\u001b[0;31mNameError\u001b[0m: name 'sim' is not defined"
     ]
    }
   ],
   "source": [
    "sim.dm_gpu = dm_gpu "
   ]
  },
  {
   "cell_type": "code",
   "execution_count": 10,
   "id": "3ca25bbe-0154-4a11-adba-fcf85b51056e",
   "metadata": {},
   "outputs": [
    {
     "name": "stdout",
     "output_type": "stream",
     "text": [
      "particle 1 is 0\n",
      "0 1 2\n",
      "particle 2is,  1\n",
      "3 4 5\n",
      "particle 2is,  2\n",
      "6 7 8\n",
      "particle 2is,  3\n",
      "9 10 11\n",
      "particle 1 is 1\n",
      "3 4 5\n",
      "particle 2is,  2\n",
      "6 7 8\n",
      "particle 2is,  3\n",
      "9 10 11\n",
      "particle 1 is 2\n",
      "6 7 8\n",
      "particle 2is,  3\n",
      "9 10 11\n",
      "particle 1 is 3\n",
      "9 10 11\n"
     ]
    }
   ],
   "source": [
    "for i in range(4): \n",
    "    x1 = i*3\n",
    "    y1 = i*3 + 1\n",
    "    z1 = i*3 + 2\n",
    "    print(\"particle 1 is\", i)\n",
    "    print(x1,y1,z1)\n",
    "    for j in range(i+1, 4): \n",
    "        x2 = j*3\n",
    "        y2= j*3 + 1\n",
    "        z2 = j*3 + 2\n",
    "        print(\"particle 2is, \",j)\n",
    "        print(x2,y2,z2)\n",
    "        \n"
   ]
  },
  {
   "cell_type": "code",
   "execution_count": 65,
   "id": "0aeba416",
   "metadata": {},
   "outputs": [],
   "source": [
    "from numba import njit\n",
    "@njit()\n",
    "def force_pre_cuda( positions, constants, box_length):\n",
    "    num = positions.shape[0]\n",
    "    positions = np.ravel(positions)\n",
    "    epsilon= constants[0]\n",
    "    sigma = constants[1]\n",
    "    sigma_six = sigma**6\n",
    "    prefactor_lj = 24*epsilon*sigma_six\n",
    "    fx = np.zeros(num)\n",
    "    fy = np.zeros(num)\n",
    "    fz = np.zeros(num)\n",
    "    for i in range(0, num - 1):\n",
    "        for j in range(i + 1, num):\n",
    "            ###############\n",
    "            dx = positions[j*3] -   positions[i*3]\n",
    "            dy = positions[j*3+1] - positions[i*3+1]\n",
    "            dz = positions[j*3+2] - positions[i*3+2]\n",
    "            distance = np.sqrt(dx*dx + dy*dy + dz*dz)\n",
    "            distance = 1/distance\n",
    "            distance_sq = distance*distance\n",
    "            distance_six = distance_sq*distance_sq*distance_sq\n",
    "            distance_eight = distance_six*distance_sq\n",
    "            prefactor = prefactor_lj*distance_eight\n",
    "            bracket = ((2.*sigma_six)*distance_six - 1.)\n",
    "            result = prefactor*bracket\n",
    "            fx[i] += result * dx\n",
    "            fy[i] += result * dy\n",
    "            fz[i] += result * dz\n",
    "            fx[j] -= result * dx\n",
    "            fy[j] -= result * dy\n",
    "            fz[j] -= result * dz\n",
    "    return fx, fy, fz"
   ]
  },
  {
   "cell_type": "code",
   "execution_count": 77,
   "id": "65838231",
   "metadata": {},
   "outputs": [
    {
     "name": "stdout",
     "output_type": "stream",
     "text": [
      "(array([-0.01834705,  0.01834705]), array([-0.01834705,  0.01834705]), array([-0.0366941,  0.0366941]))\n"
     ]
    }
   ],
   "source": [
    "constants = np.array([1,1]).astype(np.int32, order=\"F\")\n",
    "positions = np.array([[0,0,0], [1,1, 2]]).astype(np.int32, order=\"F\")\n",
    "box_length = 3\n",
    "distances_old = force_pre_cuda( positions, constants, box_length)\n",
    "print(distances_old)"
   ]
  },
  {
   "cell_type": "code",
   "execution_count": 74,
   "id": "a33e20ee",
   "metadata": {},
   "outputs": [
    {
     "name": "stdout",
     "output_type": "stream",
     "text": [
      "6.36 ms ± 435 µs per loop (mean ± std. dev. of 7 runs, 100 loops each)\n"
     ]
    }
   ],
   "source": [
    "positions = np.random.random((1000,3))\n",
    "%timeit -n 100 distances_new = force_pre_cuda( positions, constants, box_length)\n",
    "\n"
   ]
  },
  {
   "cell_type": "code",
   "execution_count": 75,
   "id": "837ebd1d",
   "metadata": {},
   "outputs": [
    {
     "data": {
      "text/plain": [
       "CPUDispatcher(<function force_pre_cuda at 0x7ff860f0e440>)"
      ]
     },
     "execution_count": 75,
     "metadata": {},
     "output_type": "execute_result"
    }
   ],
   "source": [
    "\n",
    "dt = 0.000002\n",
    "positions = np.load(\"test_samples/test_sample__n_128_s_0.25_eps_0.25_.npy\")\n",
    "velocities = np.zeros(positions.shape)\n",
    "constants = np.array([0.1, 0.1])\n",
    "box_length = np.int32(8)\n",
    "sim = Simulator(\n",
    "    path = r\"./output\",\n",
    "    title = \"test_1\",\n",
    "    mass = 1,\n",
    "    sim_time= 10000*dt ,\n",
    "    time_step = dt,\n",
    "    initial_values = [positions,velocities],\n",
    "    box_length = box_length,\n",
    "    force=None,\n",
    "    force_constants=constants,\n",
    "    integrator=None,   \n",
    "    periodic=True,\n",
    ")\n",
    "sim.force = force_pre_cuda\n",
    "sim.force"
   ]
  },
  {
   "cell_type": "code",
   "execution_count": 76,
   "id": "6985fb1a",
   "metadata": {},
   "outputs": [
    {
     "ename": "TypeError",
     "evalue": "unsupported operand type(s) for /: 'tuple' and 'int'",
     "output_type": "error",
     "traceback": [
      "\u001b[0;31m---------------------------------------------------------------------------\u001b[0m",
      "\u001b[0;31mTypeError\u001b[0m                                 Traceback (most recent call last)",
      "\u001b[1;32m/home/julian/Documents/openmd/openmd/notebooks/IncludePycuda.ipynb Cell 31'\u001b[0m in \u001b[0;36m<module>\u001b[0;34m\u001b[0m\n\u001b[0;32m----> <a href='vscode-notebook-cell:/home/julian/Documents/openmd/openmd/notebooks/IncludePycuda.ipynb#ch0000030?line=0'>1</a>\u001b[0m positions, velocities \u001b[39m=\u001b[39m sim\u001b[39m.\u001b[39;49msimulate()\n",
      "File \u001b[0;32m~/Documents/openmd/openmd/openmd/SimulatorLJ.py:60\u001b[0m, in \u001b[0;36mSimulatorLJ.simulate\u001b[0;34m(self)\u001b[0m\n\u001b[1;32m     <a href='file:///home/julian/Documents/openmd/openmd/openmd/SimulatorLJ.py?line=56'>57</a>\u001b[0m \u001b[39m# calculate chunks such that the for-loop from the integretor is written here and the integrator just called\u001b[39;00m\n\u001b[1;32m     <a href='file:///home/julian/Documents/openmd/openmd/openmd/SimulatorLJ.py?line=57'>58</a>\u001b[0m \u001b[39mfor\u001b[39;00m i \u001b[39min\u001b[39;00m \u001b[39mrange\u001b[39m(\u001b[39mself\u001b[39m\u001b[39m.\u001b[39mnum_steps \u001b[39m-\u001b[39m \u001b[39m1\u001b[39m):\n\u001b[0;32m---> <a href='file:///home/julian/Documents/openmd/openmd/openmd/SimulatorLJ.py?line=59'>60</a>\u001b[0m     positions[:, :, i \u001b[39m+\u001b[39m \u001b[39m1\u001b[39m], velocities[:, :, i \u001b[39m+\u001b[39m \u001b[39m1\u001b[39m] \u001b[39m=\u001b[39m \u001b[39mself\u001b[39;49m\u001b[39m.\u001b[39;49mintegrator(\n\u001b[1;32m     <a href='file:///home/julian/Documents/openmd/openmd/openmd/SimulatorLJ.py?line=60'>61</a>\u001b[0m         positions\u001b[39m=\u001b[39;49mpositions[:, :, i],\n\u001b[1;32m     <a href='file:///home/julian/Documents/openmd/openmd/openmd/SimulatorLJ.py?line=61'>62</a>\u001b[0m         velocities\u001b[39m=\u001b[39;49mvelocities[:, :, i],\n\u001b[1;32m     <a href='file:///home/julian/Documents/openmd/openmd/openmd/SimulatorLJ.py?line=62'>63</a>\u001b[0m         iteration\u001b[39m=\u001b[39;49mi,\n\u001b[1;32m     <a href='file:///home/julian/Documents/openmd/openmd/openmd/SimulatorLJ.py?line=63'>64</a>\u001b[0m     )\n\u001b[1;32m     <a href='file:///home/julian/Documents/openmd/openmd/openmd/SimulatorLJ.py?line=65'>66</a>\u001b[0m \u001b[39m# calculate energies\u001b[39;00m\n\u001b[1;32m     <a href='file:///home/julian/Documents/openmd/openmd/openmd/SimulatorLJ.py?line=66'>67</a>\u001b[0m \u001b[39m# kinetic_energies = self._mean_kinetic_energy(velocities)\u001b[39;00m\n\u001b[1;32m     <a href='file:///home/julian/Documents/openmd/openmd/openmd/SimulatorLJ.py?line=67'>68</a>\u001b[0m \u001b[39m# potential_energies = self._mean_LJ_energy(self.force_constants, positions)\u001b[39;00m\n\u001b[1;32m     <a href='file:///home/julian/Documents/openmd/openmd/openmd/SimulatorLJ.py?line=68'>69</a>\u001b[0m \u001b[39m# total_energies = kinetic_energies + potential_energies\u001b[39;00m\n\u001b[1;32m     <a href='file:///home/julian/Documents/openmd/openmd/openmd/SimulatorLJ.py?line=69'>70</a>\u001b[0m \n\u001b[1;32m     <a href='file:///home/julian/Documents/openmd/openmd/openmd/SimulatorLJ.py?line=70'>71</a>\u001b[0m \u001b[39m# needs to save to disk & plots\u001b[39;00m\n\u001b[1;32m     <a href='file:///home/julian/Documents/openmd/openmd/openmd/SimulatorLJ.py?line=71'>72</a>\u001b[0m \u001b[39m\"\"\"self.save_to_disk(positions, velocities, kinetic_energies, potential_energies, total_energies)\u001b[39;00m\n\u001b[1;32m     <a href='file:///home/julian/Documents/openmd/openmd/openmd/SimulatorLJ.py?line=72'>73</a>\u001b[0m \u001b[39mself.plot_results(\"x\", positions[:, 0, :], \"y\", positions[:, 1, :])\u001b[39;00m\n\u001b[1;32m     <a href='file:///home/julian/Documents/openmd/openmd/openmd/SimulatorLJ.py?line=73'>74</a>\u001b[0m \u001b[39mself.plot_results(\"y\", positions[:, 1, :], \"z\", positions[:, 2, :])\u001b[39;00m\n\u001b[0;32m   (...)\u001b[0m\n\u001b[1;32m    <a href='file:///home/julian/Documents/openmd/openmd/openmd/SimulatorLJ.py?line=100'>101</a>\u001b[0m \u001b[39m    [total_energies],\u001b[39;00m\n\u001b[1;32m    <a href='file:///home/julian/Documents/openmd/openmd/openmd/SimulatorLJ.py?line=101'>102</a>\u001b[0m \u001b[39m)\"\"\"\u001b[39;00m\n",
      "File \u001b[0;32m~/Documents/openmd/openmd/openmd/SimulatorLJ.py:122\u001b[0m, in \u001b[0;36mSimulatorLJ.integrator\u001b[0;34m(self, positions, velocities, iteration)\u001b[0m\n\u001b[1;32m    <a href='file:///home/julian/Documents/openmd/openmd/openmd/SimulatorLJ.py?line=119'>120</a>\u001b[0m     positions[positions \u001b[39m>\u001b[39m \u001b[39mself\u001b[39m\u001b[39m.\u001b[39mbox_length \u001b[39m/\u001b[39m \u001b[39m2\u001b[39m] \u001b[39m-\u001b[39m\u001b[39m=\u001b[39m \u001b[39mself\u001b[39m\u001b[39m.\u001b[39mbox_length\n\u001b[1;32m    <a href='file:///home/julian/Documents/openmd/openmd/openmd/SimulatorLJ.py?line=120'>121</a>\u001b[0m     positions[positions \u001b[39m<\u001b[39m\u001b[39m=\u001b[39m \u001b[39m-\u001b[39m\u001b[39mself\u001b[39m\u001b[39m.\u001b[39mbox_length \u001b[39m/\u001b[39m \u001b[39m2\u001b[39m] \u001b[39m+\u001b[39m\u001b[39m=\u001b[39m \u001b[39mself\u001b[39m\u001b[39m.\u001b[39mbox_length\n\u001b[0;32m--> <a href='file:///home/julian/Documents/openmd/openmd/openmd/SimulatorLJ.py?line=121'>122</a>\u001b[0m acc \u001b[39m=\u001b[39m \u001b[39mself\u001b[39;49m\u001b[39m.\u001b[39;49mcalc_accel(positions[:, :], \u001b[39mself\u001b[39;49m\u001b[39m.\u001b[39;49mforce_constants)\n\u001b[1;32m    <a href='file:///home/julian/Documents/openmd/openmd/openmd/SimulatorLJ.py?line=122'>123</a>\u001b[0m velocities \u001b[39m=\u001b[39m velocities \u001b[39m+\u001b[39m \u001b[39m0.5\u001b[39m \u001b[39m*\u001b[39m acc \u001b[39m*\u001b[39m \u001b[39mself\u001b[39m\u001b[39m.\u001b[39mtime_step\n\u001b[1;32m    <a href='file:///home/julian/Documents/openmd/openmd/openmd/SimulatorLJ.py?line=123'>124</a>\u001b[0m \u001b[39mreturn\u001b[39;00m [positions, velocities]\n",
      "File \u001b[0;32m~/Documents/openmd/openmd/openmd/SimulatorLJ.py:154\u001b[0m, in \u001b[0;36mSimulatorLJ.calc_accel\u001b[0;34m(self, positions, constants)\u001b[0m\n\u001b[1;32m    <a href='file:///home/julian/Documents/openmd/openmd/openmd/SimulatorLJ.py?line=148'>149</a>\u001b[0m \u001b[39mdef\u001b[39;00m \u001b[39mcalc_accel\u001b[39m(\u001b[39mself\u001b[39m, positions, constants):\n\u001b[1;32m    <a href='file:///home/julian/Documents/openmd/openmd/openmd/SimulatorLJ.py?line=150'>151</a>\u001b[0m     forces \u001b[39m=\u001b[39m \u001b[39mself\u001b[39m\u001b[39m.\u001b[39mforce(\n\u001b[1;32m    <a href='file:///home/julian/Documents/openmd/openmd/openmd/SimulatorLJ.py?line=151'>152</a>\u001b[0m         positions\u001b[39m=\u001b[39mpositions, constants\u001b[39m=\u001b[39mconstants, box_length\u001b[39m=\u001b[39m\u001b[39mself\u001b[39m\u001b[39m.\u001b[39mbox_length\n\u001b[1;32m    <a href='file:///home/julian/Documents/openmd/openmd/openmd/SimulatorLJ.py?line=152'>153</a>\u001b[0m     )\n\u001b[0;32m--> <a href='file:///home/julian/Documents/openmd/openmd/openmd/SimulatorLJ.py?line=153'>154</a>\u001b[0m     acc \u001b[39m=\u001b[39m forces \u001b[39m/\u001b[39;49m \u001b[39mself\u001b[39;49m\u001b[39m.\u001b[39;49mmass\n\u001b[1;32m    <a href='file:///home/julian/Documents/openmd/openmd/openmd/SimulatorLJ.py?line=154'>155</a>\u001b[0m     \u001b[39mreturn\u001b[39;00m acc\n",
      "\u001b[0;31mTypeError\u001b[0m: unsupported operand type(s) for /: 'tuple' and 'int'"
     ]
    }
   ],
   "source": [
    "positions, velocities = sim.simulate()"
   ]
  },
  {
   "cell_type": "code",
   "execution_count": null,
   "id": "ddd18f3d",
   "metadata": {},
   "outputs": [],
   "source": []
  }
 ],
 "metadata": {
  "kernelspec": {
   "display_name": "Python 3 (ipykernel)",
   "language": "python",
   "name": "python3"
  },
  "language_info": {
   "codemirror_mode": {
    "name": "ipython",
    "version": 3
   },
   "file_extension": ".py",
   "mimetype": "text/x-python",
   "name": "python",
   "nbconvert_exporter": "python",
   "pygments_lexer": "ipython3",
   "version": "3.10.2"
  }
 },
 "nbformat": 4,
 "nbformat_minor": 5
}
