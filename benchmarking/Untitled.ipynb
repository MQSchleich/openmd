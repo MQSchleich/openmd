{
 "cells": [
  {
   "cell_type": "code",
   "execution_count": 6,
   "id": "3eff9f4a-27bb-4333-95c0-f29a949f4af5",
   "metadata": {},
   "outputs": [],
   "source": [
    "import numpy as np\n",
    "from scipy.spatial import distance as dist"
   ]
  },
  {
   "cell_type": "code",
   "execution_count": 14,
   "id": "2fe90279-12b5-462e-a6b4-e7edf21de755",
   "metadata": {},
   "outputs": [],
   "source": [
    "a = np.random.rand(10, 3)"
   ]
  },
  {
   "cell_type": "code",
   "execution_count": 15,
   "id": "7d61b212-6ca3-490b-a585-6dc8cf31d858",
   "metadata": {},
   "outputs": [
    {
     "data": {
      "text/plain": [
       "array([[0.29597565, 0.3573035 , 0.35289188],\n",
       "       [0.2315156 , 0.0924256 , 0.15266366],\n",
       "       [0.98893011, 0.19853086, 0.20790931],\n",
       "       [0.8167378 , 0.15122639, 0.8441044 ],\n",
       "       [0.45472113, 0.08181097, 0.66324045],\n",
       "       [0.32759534, 0.60292485, 0.10242592],\n",
       "       [0.59140791, 0.0169849 , 0.08630719],\n",
       "       [0.12694276, 0.2557682 , 0.855013  ],\n",
       "       [0.43976965, 0.35010854, 0.52082427],\n",
       "       [0.60580455, 0.18062373, 0.83929235]])"
      ]
     },
     "execution_count": 15,
     "metadata": {},
     "output_type": "execute_result"
    }
   ],
   "source": [
    "a"
   ]
  },
  {
   "cell_type": "code",
   "execution_count": 16,
   "id": "ca3ad24c-f417-4e9b-8587-fecaceb8dd8b",
   "metadata": {},
   "outputs": [
    {
     "data": {
      "text/plain": [
       "array([0.33824066, 0.72554434, 0.74495016, 0.44431126, 0.35222556,\n",
       "       0.52360707, 0.53945079, 0.22120075, 0.6031543 , 0.7668032 ,\n",
       "       0.90776255, 0.55733476, 0.52188565, 0.37365352, 0.72863632,\n",
       "       0.49529031, 0.78697528, 0.66078142, 0.71156814, 0.78232022,\n",
       "       0.45361868, 1.07937087, 0.64997598, 0.73874922, 0.41059267,\n",
       "       0.9966839 , 0.80190457, 0.69775726, 0.53494778, 0.21302629,\n",
       "       0.7760371 , 0.59643749, 0.41770383, 0.30412087, 0.25215954,\n",
       "       0.64279274, 0.85274058, 0.50155393, 0.89370618, 0.92932984,\n",
       "       0.56812905, 0.77069552, 0.46737872, 0.48497674, 0.39713298])"
      ]
     },
     "execution_count": 16,
     "metadata": {},
     "output_type": "execute_result"
    }
   ],
   "source": [
    "b = dist.pdist(a)\n",
    "b"
   ]
  }
 ],
 "metadata": {
  "kernelspec": {
   "display_name": "Python 3 (ipykernel)",
   "language": "python",
   "name": "python3"
  },
  "language_info": {
   "codemirror_mode": {
    "name": "ipython",
    "version": 3
   },
   "file_extension": ".py",
   "mimetype": "text/x-python",
   "name": "python",
   "nbconvert_exporter": "python",
   "pygments_lexer": "ipython3",
   "version": "3.9.6"
  }
 },
 "nbformat": 4,
 "nbformat_minor": 5
}
